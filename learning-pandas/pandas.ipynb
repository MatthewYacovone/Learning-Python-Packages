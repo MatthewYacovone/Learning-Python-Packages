{
 "cells": [
  {
   "cell_type": "code",
   "execution_count": 17,
   "id": "dec223cc-6ea6-4d66-812a-95c7065a348e",
   "metadata": {},
   "outputs": [],
   "source": [
    "import pandas as pd\n",
    "import numpy as np"
   ]
  },
  {
   "cell_type": "markdown",
   "id": "11839722-4972-4f76-b5be-496b3daae54f",
   "metadata": {},
   "source": [
    "# 1. Series\n",
    "\n",
    "One column or one row of a dataframe"
   ]
  },
  {
   "cell_type": "code",
   "execution_count": 18,
   "id": "e54e5dfc-cae8-4c2a-a2fc-89c638ec0b37",
   "metadata": {},
   "outputs": [],
   "source": [
    "list = [1,2,3]"
   ]
  },
  {
   "cell_type": "code",
   "execution_count": 19,
   "id": "428fb184-c456-4677-b924-44a89dd351f6",
   "metadata": {},
   "outputs": [
    {
     "data": {
      "text/plain": [
       "1"
      ]
     },
     "execution_count": 19,
     "metadata": {},
     "output_type": "execute_result"
    }
   ],
   "source": [
    "list[0]"
   ]
  },
  {
   "cell_type": "code",
   "execution_count": 20,
   "id": "a32a4ab5-a0f8-4fda-b214-bfe29c4990fd",
   "metadata": {},
   "outputs": [
    {
     "data": {
      "text/plain": [
       "2"
      ]
     },
     "execution_count": 20,
     "metadata": {},
     "output_type": "execute_result"
    }
   ],
   "source": [
    "list[1]"
   ]
  },
  {
   "cell_type": "code",
   "execution_count": 21,
   "id": "d1b19bf3-be55-438f-bf37-9af7953c51f8",
   "metadata": {},
   "outputs": [],
   "source": [
    "indicies = ['a','b','c']\n",
    "data = [10,20,30]\n",
    "s1 = pd.Series(data,indicies) #ind1 = data, ind2 = indicies"
   ]
  },
  {
   "cell_type": "code",
   "execution_count": 22,
   "id": "df4dd38d-5b79-4de4-8c20-60f5cd2bcc92",
   "metadata": {},
   "outputs": [
    {
     "data": {
      "text/plain": [
       "a    10\n",
       "b    20\n",
       "c    30\n",
       "dtype: int64"
      ]
     },
     "execution_count": 22,
     "metadata": {},
     "output_type": "execute_result"
    }
   ],
   "source": [
    "s1"
   ]
  },
  {
   "cell_type": "code",
   "execution_count": 23,
   "id": "f94d14e8-5a45-495b-b4d3-8176ba4bfb29",
   "metadata": {},
   "outputs": [
    {
     "data": {
      "text/plain": [
       "10"
      ]
     },
     "execution_count": 23,
     "metadata": {},
     "output_type": "execute_result"
    }
   ],
   "source": [
    "s1['a']"
   ]
  },
  {
   "cell_type": "code",
   "execution_count": 24,
   "id": "54079cf2-9893-4d35-87f7-c6b30011769b",
   "metadata": {},
   "outputs": [
    {
     "data": {
      "text/plain": [
       "20"
      ]
     },
     "execution_count": 24,
     "metadata": {},
     "output_type": "execute_result"
    }
   ],
   "source": [
    "s1['b']"
   ]
  },
  {
   "cell_type": "code",
   "execution_count": 25,
   "id": "867934aa-6eff-4728-b490-54b70392f13c",
   "metadata": {},
   "outputs": [
    {
     "data": {
      "text/plain": [
       "30"
      ]
     },
     "execution_count": 25,
     "metadata": {},
     "output_type": "execute_result"
    }
   ],
   "source": [
    "s1['c']"
   ]
  },
  {
   "cell_type": "code",
   "execution_count": 26,
   "id": "172aa969-4a5f-4212-90c2-299fd68f88df",
   "metadata": {},
   "outputs": [
    {
     "data": {
      "text/plain": [
       "a    10\n",
       "b    20\n",
       "c    30\n",
       "dtype: int64"
      ]
     },
     "execution_count": 26,
     "metadata": {},
     "output_type": "execute_result"
    }
   ],
   "source": [
    "s2 = pd.Series({'a':10,'b':20,'c':30})\n",
    "s2"
   ]
  },
  {
   "cell_type": "code",
   "execution_count": 27,
   "id": "963cf2cf-fcd6-4f08-883e-c1e87264cd0d",
   "metadata": {},
   "outputs": [
    {
     "data": {
      "text/plain": [
       "20"
      ]
     },
     "execution_count": 27,
     "metadata": {},
     "output_type": "execute_result"
    }
   ],
   "source": [
    "s2['b'] # access elements in a series"
   ]
  },
  {
   "cell_type": "code",
   "execution_count": 28,
   "id": "fc922222-a3f2-40a7-a58a-353dd6e68a72",
   "metadata": {},
   "outputs": [],
   "source": [
    "s2['a'] = 10**3 # modify elements in a series"
   ]
  },
  {
   "cell_type": "code",
   "execution_count": 29,
   "id": "498808a2-e094-4e39-8061-c9de4cc74a27",
   "metadata": {},
   "outputs": [
    {
     "data": {
      "text/plain": [
       "a    1000\n",
       "b      20\n",
       "c      30\n",
       "dtype: int64"
      ]
     },
     "execution_count": 29,
     "metadata": {},
     "output_type": "execute_result"
    }
   ],
   "source": [
    "s2"
   ]
  },
  {
   "cell_type": "code",
   "execution_count": 30,
   "id": "77c7a0d7-9752-4ac0-9b6a-061d29f76023",
   "metadata": {},
   "outputs": [
    {
     "data": {
      "text/plain": [
       "a    1010\n",
       "b      40\n",
       "c      60\n",
       "dtype: int64"
      ]
     },
     "execution_count": 30,
     "metadata": {},
     "output_type": "execute_result"
    }
   ],
   "source": [
    "s1 + s2 # values sitting at the same indicies will be added together"
   ]
  },
  {
   "cell_type": "code",
   "execution_count": 31,
   "id": "3d101c99-ad34-4d68-83ae-93f490c9843d",
   "metadata": {},
   "outputs": [],
   "source": [
    "s3 = pd.Series({'a':50,'d':70})"
   ]
  },
  {
   "cell_type": "code",
   "execution_count": 32,
   "id": "1cdc51fe-5433-4407-91e6-92c3d7e4e5d6",
   "metadata": {},
   "outputs": [
    {
     "data": {
      "text/plain": [
       "a    10\n",
       "b    20\n",
       "c    30\n",
       "dtype: int64"
      ]
     },
     "execution_count": 32,
     "metadata": {},
     "output_type": "execute_result"
    }
   ],
   "source": [
    "s1"
   ]
  },
  {
   "cell_type": "code",
   "execution_count": 33,
   "id": "8a80fbed-993e-4641-996f-64c03522fa04",
   "metadata": {},
   "outputs": [
    {
     "data": {
      "text/plain": [
       "a    50\n",
       "d    70\n",
       "dtype: int64"
      ]
     },
     "execution_count": 33,
     "metadata": {},
     "output_type": "execute_result"
    }
   ],
   "source": [
    "s3"
   ]
  },
  {
   "cell_type": "code",
   "execution_count": 34,
   "id": "a481b6f7-7ed8-4bb6-a291-a5bdd6745c50",
   "metadata": {
    "jp-MarkdownHeadingCollapsed": true
   },
   "outputs": [
    {
     "data": {
      "text/plain": [
       "a    60.0\n",
       "b     NaN\n",
       "c     NaN\n",
       "d     NaN\n",
       "dtype: float64"
      ]
     },
     "execution_count": 34,
     "metadata": {},
     "output_type": "execute_result"
    }
   ],
   "source": [
    "s1 + s3 # if there is no common index, the output is not a num NAN"
   ]
  },
  {
   "cell_type": "code",
   "execution_count": 35,
   "id": "560d6410-7242-4b36-b523-c8574d17f27d",
   "metadata": {},
   "outputs": [
    {
     "data": {
      "text/plain": [
       "a    10000\n",
       "b      400\n",
       "c      900\n",
       "dtype: int64"
      ]
     },
     "execution_count": 35,
     "metadata": {},
     "output_type": "execute_result"
    }
   ],
   "source": [
    "s1*s2"
   ]
  },
  {
   "cell_type": "code",
   "execution_count": 36,
   "id": "d5eb337d-2fd1-4357-8231-5629813e3f4f",
   "metadata": {},
   "outputs": [
    {
     "data": {
      "text/plain": [
       "a    0.01\n",
       "b    1.00\n",
       "c    1.00\n",
       "dtype: float64"
      ]
     },
     "execution_count": 36,
     "metadata": {},
     "output_type": "execute_result"
    }
   ],
   "source": [
    "s1/s2"
   ]
  },
  {
   "cell_type": "code",
   "execution_count": 37,
   "id": "794dbf23-fcdb-4422-9b77-52d6f43c3f0a",
   "metadata": {},
   "outputs": [
    {
     "data": {
      "text/plain": [
       "60"
      ]
     },
     "execution_count": 37,
     "metadata": {},
     "output_type": "execute_result"
    }
   ],
   "source": [
    "s1.sum()"
   ]
  },
  {
   "cell_type": "code",
   "execution_count": 38,
   "id": "9d3ba674-7295-4a1a-ae99-4c38b15cb7b8",
   "metadata": {},
   "outputs": [
    {
     "data": {
      "text/plain": [
       "6000"
      ]
     },
     "execution_count": 38,
     "metadata": {},
     "output_type": "execute_result"
    }
   ],
   "source": [
    "s1.product()"
   ]
  },
  {
   "cell_type": "markdown",
   "id": "c7ec96c6-91aa-478b-88f9-29c40e6529ec",
   "metadata": {},
   "source": [
    "# 2. DataFrames\n",
    "2d, size-mutable, and potentially hetergeneous tabular data structures with label axes (rows and columns).\n",
    "Dictionary-like data containers for series objects -- a concatenation of series.\n",
    "Init signature:\n",
    "pd.DataFrame(\n",
    "    data=None,\n",
    "    index: 'Axes | None' = None,\n",
    "    columns: 'Axes | None' = None,\n",
    "    dtype: 'Dtype | None' = None,\n",
    "    copy: 'bool | None' = None,\n",
    ") -> 'None'\n",
    "Docstring:     \n",
    "Two-dimensional, size-mutable, potentially heterogeneous tabular data.\n",
    "\n",
    "Data structure also contains labeled axes (rows and columns).\n",
    "Arithmetic operations align on both row and column labels. Can be\n",
    "thought of as a dict-like container for Series objects. The primary\n",
    "pandas data structure."
   ]
  },
  {
   "cell_type": "code",
   "execution_count": 39,
   "id": "b22738d1-a502-4a74-a991-085e1b94fb8d",
   "metadata": {},
   "outputs": [],
   "source": [
    "df = pd.DataFrame(np.random.rand(3,5), ['A','B','C'],['price','volume','return rate', 'open price', 'close price'])"
   ]
  },
  {
   "cell_type": "code",
   "execution_count": 40,
   "id": "dde075f0-7190-41ce-add2-5f6f292410f3",
   "metadata": {},
   "outputs": [
    {
     "data": {
      "text/html": [
       "<div>\n",
       "<style scoped>\n",
       "    .dataframe tbody tr th:only-of-type {\n",
       "        vertical-align: middle;\n",
       "    }\n",
       "\n",
       "    .dataframe tbody tr th {\n",
       "        vertical-align: top;\n",
       "    }\n",
       "\n",
       "    .dataframe thead th {\n",
       "        text-align: right;\n",
       "    }\n",
       "</style>\n",
       "<table border=\"1\" class=\"dataframe\">\n",
       "  <thead>\n",
       "    <tr style=\"text-align: right;\">\n",
       "      <th></th>\n",
       "      <th>price</th>\n",
       "      <th>volume</th>\n",
       "      <th>return rate</th>\n",
       "      <th>open price</th>\n",
       "      <th>close price</th>\n",
       "    </tr>\n",
       "  </thead>\n",
       "  <tbody>\n",
       "    <tr>\n",
       "      <th>A</th>\n",
       "      <td>0.470485</td>\n",
       "      <td>0.149234</td>\n",
       "      <td>0.605779</td>\n",
       "      <td>0.745436</td>\n",
       "      <td>0.047342</td>\n",
       "    </tr>\n",
       "    <tr>\n",
       "      <th>B</th>\n",
       "      <td>0.986785</td>\n",
       "      <td>0.273946</td>\n",
       "      <td>0.891267</td>\n",
       "      <td>0.435829</td>\n",
       "      <td>0.218525</td>\n",
       "    </tr>\n",
       "    <tr>\n",
       "      <th>C</th>\n",
       "      <td>0.609084</td>\n",
       "      <td>0.398334</td>\n",
       "      <td>0.896389</td>\n",
       "      <td>0.966172</td>\n",
       "      <td>0.427796</td>\n",
       "    </tr>\n",
       "  </tbody>\n",
       "</table>\n",
       "</div>"
      ],
      "text/plain": [
       "      price    volume  return rate  open price  close price\n",
       "A  0.470485  0.149234     0.605779    0.745436     0.047342\n",
       "B  0.986785  0.273946     0.891267    0.435829     0.218525\n",
       "C  0.609084  0.398334     0.896389    0.966172     0.427796"
      ]
     },
     "execution_count": 40,
     "metadata": {},
     "output_type": "execute_result"
    }
   ],
   "source": [
    "df"
   ]
  },
  {
   "cell_type": "code",
   "execution_count": 41,
   "id": "20745f6c-761b-428c-b84a-8021f5d767ed",
   "metadata": {},
   "outputs": [
    {
     "data": {
      "text/plain": [
       "A    0.470485\n",
       "B    0.986785\n",
       "C    0.609084\n",
       "Name: price, dtype: float64"
      ]
     },
     "execution_count": 41,
     "metadata": {},
     "output_type": "execute_result"
    }
   ],
   "source": [
    "df['price'] # indexing columns"
   ]
  },
  {
   "cell_type": "code",
   "execution_count": 42,
   "id": "61612442-a49a-4f36-bf1a-6474e17420a5",
   "metadata": {},
   "outputs": [
    {
     "data": {
      "text/plain": [
       "pandas.core.series.Series"
      ]
     },
     "execution_count": 42,
     "metadata": {},
     "output_type": "execute_result"
    }
   ],
   "source": [
    "type(df['price']) # columns are series"
   ]
  },
  {
   "cell_type": "code",
   "execution_count": 43,
   "id": "88ab29d4-4487-4896-a150-4586686208fc",
   "metadata": {},
   "outputs": [
    {
     "data": {
      "text/plain": [
       "price          0.470485\n",
       "volume         0.149234\n",
       "return rate    0.605779\n",
       "open price     0.745436\n",
       "close price    0.047342\n",
       "Name: A, dtype: float64"
      ]
     },
     "execution_count": 43,
     "metadata": {},
     "output_type": "execute_result"
    }
   ],
   "source": [
    "df.loc['A'] # indexing rows, .loc = .location"
   ]
  },
  {
   "cell_type": "code",
   "execution_count": 44,
   "id": "5cf56024-e9f4-4299-bdff-e6f586356cf8",
   "metadata": {},
   "outputs": [
    {
     "data": {
      "text/plain": [
       "pandas.core.series.Series"
      ]
     },
     "execution_count": 44,
     "metadata": {},
     "output_type": "execute_result"
    }
   ],
   "source": [
    "type(df.loc['A']) # rows are series"
   ]
  },
  {
   "cell_type": "code",
   "execution_count": 45,
   "id": "0ff73c7a-ea6d-4968-b58a-e78078270219",
   "metadata": {},
   "outputs": [
    {
     "data": {
      "text/plain": [
       "0.3983339692392214"
      ]
     },
     "execution_count": 45,
     "metadata": {},
     "output_type": "execute_result"
    }
   ],
   "source": [
    "df['volume']['C'] # extract specific value [column][row]"
   ]
  },
  {
   "cell_type": "code",
   "execution_count": 46,
   "id": "d0009119-75c1-4596-9f84-09359bb96367",
   "metadata": {},
   "outputs": [
    {
     "data": {
      "text/plain": [
       "0.3983339692392214"
      ]
     },
     "execution_count": 46,
     "metadata": {},
     "output_type": "execute_result"
    }
   ],
   "source": [
    "df.loc['C'].loc['volume'] # extract specific value [row][column]"
   ]
  },
  {
   "cell_type": "code",
   "execution_count": 47,
   "id": "a1b46c8c-7da8-4884-b7f0-e6538cd6abaa",
   "metadata": {},
   "outputs": [
    {
     "data": {
      "text/html": [
       "<div>\n",
       "<style scoped>\n",
       "    .dataframe tbody tr th:only-of-type {\n",
       "        vertical-align: middle;\n",
       "    }\n",
       "\n",
       "    .dataframe tbody tr th {\n",
       "        vertical-align: top;\n",
       "    }\n",
       "\n",
       "    .dataframe thead th {\n",
       "        text-align: right;\n",
       "    }\n",
       "</style>\n",
       "<table border=\"1\" class=\"dataframe\">\n",
       "  <thead>\n",
       "    <tr style=\"text-align: right;\">\n",
       "      <th></th>\n",
       "      <th></th>\n",
       "      <th>price</th>\n",
       "      <th>close</th>\n",
       "      <th>open</th>\n",
       "    </tr>\n",
       "  </thead>\n",
       "  <tbody>\n",
       "    <tr>\n",
       "      <th rowspan=\"3\" valign=\"top\">LEB</th>\n",
       "      <th>MORNING</th>\n",
       "      <td>0.084602</td>\n",
       "      <td>0.626138</td>\n",
       "      <td>0.668473</td>\n",
       "    </tr>\n",
       "    <tr>\n",
       "      <th>MIDDAY</th>\n",
       "      <td>0.323332</td>\n",
       "      <td>0.430004</td>\n",
       "      <td>0.009845</td>\n",
       "    </tr>\n",
       "    <tr>\n",
       "      <th>EVENING</th>\n",
       "      <td>0.223616</td>\n",
       "      <td>0.212477</td>\n",
       "      <td>0.336437</td>\n",
       "    </tr>\n",
       "    <tr>\n",
       "      <th rowspan=\"3\" valign=\"top\">FR</th>\n",
       "      <th>MORNING</th>\n",
       "      <td>0.128454</td>\n",
       "      <td>0.954572</td>\n",
       "      <td>0.876847</td>\n",
       "    </tr>\n",
       "    <tr>\n",
       "      <th>MIDDAY</th>\n",
       "      <td>0.806339</td>\n",
       "      <td>0.677076</td>\n",
       "      <td>0.215818</td>\n",
       "    </tr>\n",
       "    <tr>\n",
       "      <th>EVENING</th>\n",
       "      <td>0.868420</td>\n",
       "      <td>0.234923</td>\n",
       "      <td>0.504191</td>\n",
       "    </tr>\n",
       "    <tr>\n",
       "      <th rowspan=\"3\" valign=\"top\">USA</th>\n",
       "      <th>MORNING</th>\n",
       "      <td>0.062054</td>\n",
       "      <td>0.513986</td>\n",
       "      <td>0.988394</td>\n",
       "    </tr>\n",
       "    <tr>\n",
       "      <th>MIDDAY</th>\n",
       "      <td>0.726677</td>\n",
       "      <td>0.606035</td>\n",
       "      <td>0.204542</td>\n",
       "    </tr>\n",
       "    <tr>\n",
       "      <th>EVENING</th>\n",
       "      <td>0.574799</td>\n",
       "      <td>0.372865</td>\n",
       "      <td>0.496390</td>\n",
       "    </tr>\n",
       "  </tbody>\n",
       "</table>\n",
       "</div>"
      ],
      "text/plain": [
       "                price     close      open\n",
       "LEB MORNING  0.084602  0.626138  0.668473\n",
       "    MIDDAY   0.323332  0.430004  0.009845\n",
       "    EVENING  0.223616  0.212477  0.336437\n",
       "FR  MORNING  0.128454  0.954572  0.876847\n",
       "    MIDDAY   0.806339  0.677076  0.215818\n",
       "    EVENING  0.868420  0.234923  0.504191\n",
       "USA MORNING  0.062054  0.513986  0.988394\n",
       "    MIDDAY   0.726677  0.606035  0.204542\n",
       "    EVENING  0.574799  0.372865  0.496390"
      ]
     },
     "execution_count": 47,
     "metadata": {},
     "output_type": "execute_result"
    }
   ],
   "source": [
    "# Multi-index object\n",
    "out = ['LEB','LEB','LEB','FR','FR','FR','USA','USA','USA']\n",
    "inside = ['MORNING','MIDDAY', 'EVENING','MORNING','MIDDAY', 'EVENING','MORNING','MIDDAY', 'EVENING'] # indicies\n",
    "indexRows = zip(out,inside) # tuple\n",
    "indexRows = pd.MultiIndex.from_tuples(indexRows)\n",
    "df2 = pd.DataFrame(np.random.rand(9,3),indexRows, ['price','close','open'])\n",
    "df2 # multi-indexing on the rows"
   ]
  },
  {
   "cell_type": "code",
   "execution_count": 48,
   "id": "9843b8de-1af4-4134-ba3e-2ece8a5a0c01",
   "metadata": {},
   "outputs": [
    {
     "data": {
      "text/plain": [
       "0.21247653609726724"
      ]
     },
     "execution_count": 48,
     "metadata": {},
     "output_type": "execute_result"
    }
   ],
   "source": [
    "df2.loc['LEB'].loc['EVENING'].loc['close'] # row_out, then row_in, then column"
   ]
  },
  {
   "cell_type": "code",
   "execution_count": 49,
   "id": "14978497-e2ea-4700-9a05-f51938ead21b",
   "metadata": {},
   "outputs": [
    {
     "data": {
      "text/html": [
       "<div>\n",
       "<style scoped>\n",
       "    .dataframe tbody tr th:only-of-type {\n",
       "        vertical-align: middle;\n",
       "    }\n",
       "\n",
       "    .dataframe tbody tr th {\n",
       "        vertical-align: top;\n",
       "    }\n",
       "\n",
       "    .dataframe thead th {\n",
       "        text-align: right;\n",
       "    }\n",
       "</style>\n",
       "<table border=\"1\" class=\"dataframe\">\n",
       "  <thead>\n",
       "    <tr style=\"text-align: right;\">\n",
       "      <th></th>\n",
       "      <th></th>\n",
       "      <th></th>\n",
       "      <th>price</th>\n",
       "      <th>close</th>\n",
       "      <th>open</th>\n",
       "    </tr>\n",
       "  </thead>\n",
       "  <tbody>\n",
       "    <tr>\n",
       "      <th rowspan=\"3\" valign=\"top\">ASIA</th>\n",
       "      <th>LEB</th>\n",
       "      <th>MORNING</th>\n",
       "      <td>0.076358</td>\n",
       "      <td>0.792893</td>\n",
       "      <td>0.511365</td>\n",
       "    </tr>\n",
       "    <tr>\n",
       "      <th>CHINA</th>\n",
       "      <th>MIDDAY</th>\n",
       "      <td>0.906647</td>\n",
       "      <td>0.658108</td>\n",
       "      <td>0.239507</td>\n",
       "    </tr>\n",
       "    <tr>\n",
       "      <th>JAPAN</th>\n",
       "      <th>EVENING</th>\n",
       "      <td>0.462375</td>\n",
       "      <td>0.884499</td>\n",
       "      <td>0.126588</td>\n",
       "    </tr>\n",
       "    <tr>\n",
       "      <th rowspan=\"3\" valign=\"top\">EUROPE</th>\n",
       "      <th>FRANCE</th>\n",
       "      <th>MORNING</th>\n",
       "      <td>0.267984</td>\n",
       "      <td>0.568195</td>\n",
       "      <td>0.344604</td>\n",
       "    </tr>\n",
       "    <tr>\n",
       "      <th>ITALY</th>\n",
       "      <th>MIDDAY</th>\n",
       "      <td>0.909170</td>\n",
       "      <td>0.614150</td>\n",
       "      <td>0.113333</td>\n",
       "    </tr>\n",
       "    <tr>\n",
       "      <th>NORWAY</th>\n",
       "      <th>EVENING</th>\n",
       "      <td>0.933275</td>\n",
       "      <td>0.967171</td>\n",
       "      <td>0.003138</td>\n",
       "    </tr>\n",
       "    <tr>\n",
       "      <th rowspan=\"3\" valign=\"top\">NORTH AMERICA</th>\n",
       "      <th>USA</th>\n",
       "      <th>MORNING</th>\n",
       "      <td>0.078804</td>\n",
       "      <td>0.842959</td>\n",
       "      <td>0.828342</td>\n",
       "    </tr>\n",
       "    <tr>\n",
       "      <th>CANADA</th>\n",
       "      <th>MIDDAY</th>\n",
       "      <td>0.183781</td>\n",
       "      <td>0.235949</td>\n",
       "      <td>0.481581</td>\n",
       "    </tr>\n",
       "    <tr>\n",
       "      <th>MEXICO</th>\n",
       "      <th>EVENING</th>\n",
       "      <td>0.011524</td>\n",
       "      <td>0.650209</td>\n",
       "      <td>0.536872</td>\n",
       "    </tr>\n",
       "  </tbody>\n",
       "</table>\n",
       "</div>"
      ],
      "text/plain": [
       "                                 price     close      open\n",
       "ASIA          LEB    MORNING  0.076358  0.792893  0.511365\n",
       "              CHINA  MIDDAY   0.906647  0.658108  0.239507\n",
       "              JAPAN  EVENING  0.462375  0.884499  0.126588\n",
       "EUROPE        FRANCE MORNING  0.267984  0.568195  0.344604\n",
       "              ITALY  MIDDAY   0.909170  0.614150  0.113333\n",
       "              NORWAY EVENING  0.933275  0.967171  0.003138\n",
       "NORTH AMERICA USA    MORNING  0.078804  0.842959  0.828342\n",
       "              CANADA MIDDAY   0.183781  0.235949  0.481581\n",
       "              MEXICO EVENING  0.011524  0.650209  0.536872"
      ]
     },
     "execution_count": 49,
     "metadata": {},
     "output_type": "execute_result"
    }
   ],
   "source": [
    "# Multi-index object\n",
    "out_most = ['ASIA','ASIA','ASIA','EUROPE','EUROPE','EUROPE','NORTH AMERICA','NORTH AMERICA','NORTH AMERICA']\n",
    "out = ['LEB','CHINA','JAPAN','FRANCE','ITALY','NORWAY','USA','CANADA','MEXICO']\n",
    "inside = ['MORNING','MIDDAY', 'EVENING','MORNING','MIDDAY', 'EVENING','MORNING','MIDDAY', 'EVENING'] # indicies\n",
    "indexRows = zip(out_most,out,inside) # tuple\n",
    "indexRows = pd.MultiIndex.from_tuples(indexRows)\n",
    "df3 = pd.DataFrame(np.random.rand(9,3),indexRows, ['price','close','open'])\n",
    "df3 # multi-indexing on the rows"
   ]
  },
  {
   "cell_type": "markdown",
   "id": "43514081-167e-4906-81a8-7a8d5feef64e",
   "metadata": {},
   "source": [
    "# 3. Operations on DataFrames"
   ]
  },
  {
   "cell_type": "markdown",
   "id": "bc43eec7-eb5c-487c-8ea2-f5dc2d926766",
   "metadata": {},
   "source": [
    "## 3.1 Boolean or Logical Operations"
   ]
  },
  {
   "cell_type": "code",
   "execution_count": 50,
   "id": "61a4b764-754e-482b-9af3-0b30820ff2e1",
   "metadata": {},
   "outputs": [
    {
     "data": {
      "text/html": [
       "<div>\n",
       "<style scoped>\n",
       "    .dataframe tbody tr th:only-of-type {\n",
       "        vertical-align: middle;\n",
       "    }\n",
       "\n",
       "    .dataframe tbody tr th {\n",
       "        vertical-align: top;\n",
       "    }\n",
       "\n",
       "    .dataframe thead th {\n",
       "        text-align: right;\n",
       "    }\n",
       "</style>\n",
       "<table border=\"1\" class=\"dataframe\">\n",
       "  <thead>\n",
       "    <tr style=\"text-align: right;\">\n",
       "      <th></th>\n",
       "      <th>price</th>\n",
       "      <th>volume</th>\n",
       "      <th>return rate</th>\n",
       "      <th>open price</th>\n",
       "      <th>close price</th>\n",
       "    </tr>\n",
       "  </thead>\n",
       "  <tbody>\n",
       "    <tr>\n",
       "      <th>A</th>\n",
       "      <td>0.470485</td>\n",
       "      <td>0.149234</td>\n",
       "      <td>0.605779</td>\n",
       "      <td>0.745436</td>\n",
       "      <td>0.047342</td>\n",
       "    </tr>\n",
       "    <tr>\n",
       "      <th>B</th>\n",
       "      <td>0.986785</td>\n",
       "      <td>0.273946</td>\n",
       "      <td>0.891267</td>\n",
       "      <td>0.435829</td>\n",
       "      <td>0.218525</td>\n",
       "    </tr>\n",
       "    <tr>\n",
       "      <th>C</th>\n",
       "      <td>0.609084</td>\n",
       "      <td>0.398334</td>\n",
       "      <td>0.896389</td>\n",
       "      <td>0.966172</td>\n",
       "      <td>0.427796</td>\n",
       "    </tr>\n",
       "  </tbody>\n",
       "</table>\n",
       "</div>"
      ],
      "text/plain": [
       "      price    volume  return rate  open price  close price\n",
       "A  0.470485  0.149234     0.605779    0.745436     0.047342\n",
       "B  0.986785  0.273946     0.891267    0.435829     0.218525\n",
       "C  0.609084  0.398334     0.896389    0.966172     0.427796"
      ]
     },
     "execution_count": 50,
     "metadata": {},
     "output_type": "execute_result"
    }
   ],
   "source": [
    "df"
   ]
  },
  {
   "cell_type": "code",
   "execution_count": 51,
   "id": "6726a106-8e87-4eae-8c8d-8e92e866acf9",
   "metadata": {},
   "outputs": [
    {
     "data": {
      "text/html": [
       "<div>\n",
       "<style scoped>\n",
       "    .dataframe tbody tr th:only-of-type {\n",
       "        vertical-align: middle;\n",
       "    }\n",
       "\n",
       "    .dataframe tbody tr th {\n",
       "        vertical-align: top;\n",
       "    }\n",
       "\n",
       "    .dataframe thead th {\n",
       "        text-align: right;\n",
       "    }\n",
       "</style>\n",
       "<table border=\"1\" class=\"dataframe\">\n",
       "  <thead>\n",
       "    <tr style=\"text-align: right;\">\n",
       "      <th></th>\n",
       "      <th>price</th>\n",
       "      <th>volume</th>\n",
       "      <th>return rate</th>\n",
       "      <th>open price</th>\n",
       "      <th>close price</th>\n",
       "    </tr>\n",
       "  </thead>\n",
       "  <tbody>\n",
       "    <tr>\n",
       "      <th>A</th>\n",
       "      <td>False</td>\n",
       "      <td>False</td>\n",
       "      <td>True</td>\n",
       "      <td>True</td>\n",
       "      <td>False</td>\n",
       "    </tr>\n",
       "    <tr>\n",
       "      <th>B</th>\n",
       "      <td>True</td>\n",
       "      <td>False</td>\n",
       "      <td>True</td>\n",
       "      <td>False</td>\n",
       "      <td>False</td>\n",
       "    </tr>\n",
       "    <tr>\n",
       "      <th>C</th>\n",
       "      <td>True</td>\n",
       "      <td>False</td>\n",
       "      <td>True</td>\n",
       "      <td>True</td>\n",
       "      <td>False</td>\n",
       "    </tr>\n",
       "  </tbody>\n",
       "</table>\n",
       "</div>"
      ],
      "text/plain": [
       "   price  volume  return rate  open price  close price\n",
       "A  False   False         True        True        False\n",
       "B   True   False         True       False        False\n",
       "C   True   False         True        True        False"
      ]
     },
     "execution_count": 51,
     "metadata": {},
     "output_type": "execute_result"
    }
   ],
   "source": [
    "df > 0.5"
   ]
  },
  {
   "cell_type": "code",
   "execution_count": 52,
   "id": "646d1397-6970-4c68-ba0b-75dea7879821",
   "metadata": {},
   "outputs": [
    {
     "data": {
      "text/html": [
       "<div>\n",
       "<style scoped>\n",
       "    .dataframe tbody tr th:only-of-type {\n",
       "        vertical-align: middle;\n",
       "    }\n",
       "\n",
       "    .dataframe tbody tr th {\n",
       "        vertical-align: top;\n",
       "    }\n",
       "\n",
       "    .dataframe thead th {\n",
       "        text-align: right;\n",
       "    }\n",
       "</style>\n",
       "<table border=\"1\" class=\"dataframe\">\n",
       "  <thead>\n",
       "    <tr style=\"text-align: right;\">\n",
       "      <th></th>\n",
       "      <th>price</th>\n",
       "      <th>volume</th>\n",
       "      <th>return rate</th>\n",
       "      <th>open price</th>\n",
       "      <th>close price</th>\n",
       "    </tr>\n",
       "  </thead>\n",
       "  <tbody>\n",
       "    <tr>\n",
       "      <th>A</th>\n",
       "      <td>NaN</td>\n",
       "      <td>NaN</td>\n",
       "      <td>0.605779</td>\n",
       "      <td>0.745436</td>\n",
       "      <td>NaN</td>\n",
       "    </tr>\n",
       "    <tr>\n",
       "      <th>B</th>\n",
       "      <td>0.986785</td>\n",
       "      <td>NaN</td>\n",
       "      <td>0.891267</td>\n",
       "      <td>NaN</td>\n",
       "      <td>NaN</td>\n",
       "    </tr>\n",
       "    <tr>\n",
       "      <th>C</th>\n",
       "      <td>0.609084</td>\n",
       "      <td>NaN</td>\n",
       "      <td>0.896389</td>\n",
       "      <td>0.966172</td>\n",
       "      <td>NaN</td>\n",
       "    </tr>\n",
       "  </tbody>\n",
       "</table>\n",
       "</div>"
      ],
      "text/plain": [
       "      price  volume  return rate  open price  close price\n",
       "A       NaN     NaN     0.605779    0.745436          NaN\n",
       "B  0.986785     NaN     0.891267         NaN          NaN\n",
       "C  0.609084     NaN     0.896389    0.966172          NaN"
      ]
     },
     "execution_count": 52,
     "metadata": {},
     "output_type": "execute_result"
    }
   ],
   "source": [
    "df[df>0.5]"
   ]
  },
  {
   "cell_type": "code",
   "execution_count": 53,
   "id": "2e3ad8c1-d72d-49c8-bfef-2f0511542595",
   "metadata": {},
   "outputs": [
    {
     "data": {
      "text/html": [
       "<div>\n",
       "<style scoped>\n",
       "    .dataframe tbody tr th:only-of-type {\n",
       "        vertical-align: middle;\n",
       "    }\n",
       "\n",
       "    .dataframe tbody tr th {\n",
       "        vertical-align: top;\n",
       "    }\n",
       "\n",
       "    .dataframe thead th {\n",
       "        text-align: right;\n",
       "    }\n",
       "</style>\n",
       "<table border=\"1\" class=\"dataframe\">\n",
       "  <thead>\n",
       "    <tr style=\"text-align: right;\">\n",
       "      <th></th>\n",
       "      <th>price</th>\n",
       "      <th>volume</th>\n",
       "      <th>return rate</th>\n",
       "      <th>open price</th>\n",
       "      <th>close price</th>\n",
       "    </tr>\n",
       "  </thead>\n",
       "  <tbody>\n",
       "    <tr>\n",
       "      <th>A</th>\n",
       "      <td>0.470485</td>\n",
       "      <td>0.149234</td>\n",
       "      <td>0.605779</td>\n",
       "      <td>0.745436</td>\n",
       "      <td>0.047342</td>\n",
       "    </tr>\n",
       "    <tr>\n",
       "      <th>B</th>\n",
       "      <td>0.986785</td>\n",
       "      <td>0.273946</td>\n",
       "      <td>0.891267</td>\n",
       "      <td>0.435829</td>\n",
       "      <td>0.218525</td>\n",
       "    </tr>\n",
       "    <tr>\n",
       "      <th>C</th>\n",
       "      <td>0.609084</td>\n",
       "      <td>0.398334</td>\n",
       "      <td>0.896389</td>\n",
       "      <td>0.966172</td>\n",
       "      <td>0.427796</td>\n",
       "    </tr>\n",
       "  </tbody>\n",
       "</table>\n",
       "</div>"
      ],
      "text/plain": [
       "      price    volume  return rate  open price  close price\n",
       "A  0.470485  0.149234     0.605779    0.745436     0.047342\n",
       "B  0.986785  0.273946     0.891267    0.435829     0.218525\n",
       "C  0.609084  0.398334     0.896389    0.966172     0.427796"
      ]
     },
     "execution_count": 53,
     "metadata": {},
     "output_type": "execute_result"
    }
   ],
   "source": [
    "df"
   ]
  },
  {
   "cell_type": "code",
   "execution_count": 54,
   "id": "d1159c7d-9e98-4eae-86b7-eeaa75af6169",
   "metadata": {},
   "outputs": [
    {
     "data": {
      "text/html": [
       "<div>\n",
       "<style scoped>\n",
       "    .dataframe tbody tr th:only-of-type {\n",
       "        vertical-align: middle;\n",
       "    }\n",
       "\n",
       "    .dataframe tbody tr th {\n",
       "        vertical-align: top;\n",
       "    }\n",
       "\n",
       "    .dataframe thead th {\n",
       "        text-align: right;\n",
       "    }\n",
       "</style>\n",
       "<table border=\"1\" class=\"dataframe\">\n",
       "  <thead>\n",
       "    <tr style=\"text-align: right;\">\n",
       "      <th></th>\n",
       "      <th>price</th>\n",
       "      <th>volume</th>\n",
       "      <th>return rate</th>\n",
       "      <th>open price</th>\n",
       "      <th>close price</th>\n",
       "    </tr>\n",
       "  </thead>\n",
       "  <tbody>\n",
       "    <tr>\n",
       "      <th>A</th>\n",
       "      <td>False</td>\n",
       "      <td>True</td>\n",
       "      <td>False</td>\n",
       "      <td>False</td>\n",
       "      <td>True</td>\n",
       "    </tr>\n",
       "    <tr>\n",
       "      <th>B</th>\n",
       "      <td>True</td>\n",
       "      <td>True</td>\n",
       "      <td>False</td>\n",
       "      <td>False</td>\n",
       "      <td>True</td>\n",
       "    </tr>\n",
       "    <tr>\n",
       "      <th>C</th>\n",
       "      <td>False</td>\n",
       "      <td>False</td>\n",
       "      <td>False</td>\n",
       "      <td>True</td>\n",
       "      <td>False</td>\n",
       "    </tr>\n",
       "  </tbody>\n",
       "</table>\n",
       "</div>"
      ],
      "text/plain": [
       "   price  volume  return rate  open price  close price\n",
       "A  False    True        False       False         True\n",
       "B   True    True        False       False         True\n",
       "C  False   False        False        True        False"
      ]
     },
     "execution_count": 54,
     "metadata": {},
     "output_type": "execute_result"
    }
   ],
   "source": [
    "(df < 0.3) | (df > 0.9)"
   ]
  },
  {
   "cell_type": "code",
   "execution_count": 55,
   "id": "91282ff5-858f-47cc-aca6-7f12755c4349",
   "metadata": {},
   "outputs": [
    {
     "data": {
      "text/html": [
       "<div>\n",
       "<style scoped>\n",
       "    .dataframe tbody tr th:only-of-type {\n",
       "        vertical-align: middle;\n",
       "    }\n",
       "\n",
       "    .dataframe tbody tr th {\n",
       "        vertical-align: top;\n",
       "    }\n",
       "\n",
       "    .dataframe thead th {\n",
       "        text-align: right;\n",
       "    }\n",
       "</style>\n",
       "<table border=\"1\" class=\"dataframe\">\n",
       "  <thead>\n",
       "    <tr style=\"text-align: right;\">\n",
       "      <th></th>\n",
       "      <th>price</th>\n",
       "      <th>volume</th>\n",
       "      <th>return rate</th>\n",
       "      <th>open price</th>\n",
       "      <th>close price</th>\n",
       "    </tr>\n",
       "  </thead>\n",
       "  <tbody>\n",
       "    <tr>\n",
       "      <th>A</th>\n",
       "      <td>True</td>\n",
       "      <td>False</td>\n",
       "      <td>True</td>\n",
       "      <td>True</td>\n",
       "      <td>False</td>\n",
       "    </tr>\n",
       "    <tr>\n",
       "      <th>B</th>\n",
       "      <td>False</td>\n",
       "      <td>False</td>\n",
       "      <td>True</td>\n",
       "      <td>True</td>\n",
       "      <td>False</td>\n",
       "    </tr>\n",
       "    <tr>\n",
       "      <th>C</th>\n",
       "      <td>True</td>\n",
       "      <td>True</td>\n",
       "      <td>True</td>\n",
       "      <td>False</td>\n",
       "      <td>True</td>\n",
       "    </tr>\n",
       "  </tbody>\n",
       "</table>\n",
       "</div>"
      ],
      "text/plain": [
       "   price  volume  return rate  open price  close price\n",
       "A   True   False         True        True        False\n",
       "B  False   False         True        True        False\n",
       "C   True    True         True       False         True"
      ]
     },
     "execution_count": 55,
     "metadata": {},
     "output_type": "execute_result"
    }
   ],
   "source": [
    "(df > 0.3) & (df < 0.9)"
   ]
  },
  {
   "cell_type": "code",
   "execution_count": 56,
   "id": "8358f3cc-736c-41b9-a52b-e49c17037f58",
   "metadata": {},
   "outputs": [
    {
     "data": {
      "text/html": [
       "<div>\n",
       "<style scoped>\n",
       "    .dataframe tbody tr th:only-of-type {\n",
       "        vertical-align: middle;\n",
       "    }\n",
       "\n",
       "    .dataframe tbody tr th {\n",
       "        vertical-align: top;\n",
       "    }\n",
       "\n",
       "    .dataframe thead th {\n",
       "        text-align: right;\n",
       "    }\n",
       "</style>\n",
       "<table border=\"1\" class=\"dataframe\">\n",
       "  <thead>\n",
       "    <tr style=\"text-align: right;\">\n",
       "      <th></th>\n",
       "      <th>price</th>\n",
       "      <th>volume</th>\n",
       "      <th>return rate</th>\n",
       "      <th>open price</th>\n",
       "      <th>close price</th>\n",
       "    </tr>\n",
       "  </thead>\n",
       "  <tbody>\n",
       "    <tr>\n",
       "      <th>A</th>\n",
       "      <td>0.470485</td>\n",
       "      <td>NaN</td>\n",
       "      <td>0.605779</td>\n",
       "      <td>0.745436</td>\n",
       "      <td>NaN</td>\n",
       "    </tr>\n",
       "    <tr>\n",
       "      <th>B</th>\n",
       "      <td>NaN</td>\n",
       "      <td>NaN</td>\n",
       "      <td>0.891267</td>\n",
       "      <td>0.435829</td>\n",
       "      <td>NaN</td>\n",
       "    </tr>\n",
       "    <tr>\n",
       "      <th>C</th>\n",
       "      <td>0.609084</td>\n",
       "      <td>0.398334</td>\n",
       "      <td>0.896389</td>\n",
       "      <td>NaN</td>\n",
       "      <td>0.427796</td>\n",
       "    </tr>\n",
       "  </tbody>\n",
       "</table>\n",
       "</div>"
      ],
      "text/plain": [
       "      price    volume  return rate  open price  close price\n",
       "A  0.470485       NaN     0.605779    0.745436          NaN\n",
       "B       NaN       NaN     0.891267    0.435829          NaN\n",
       "C  0.609084  0.398334     0.896389         NaN     0.427796"
      ]
     },
     "execution_count": 56,
     "metadata": {},
     "output_type": "execute_result"
    }
   ],
   "source": [
    "df[(df > 0.3) & (df < 0.9)]"
   ]
  },
  {
   "cell_type": "markdown",
   "id": "4feeaa92-6616-458e-9e34-9c1996d5375b",
   "metadata": {},
   "source": [
    "## 3.2 Grouping Elements (Aggregate Functions)"
   ]
  },
  {
   "cell_type": "code",
   "execution_count": 57,
   "id": "21197a5a-cbfb-4697-b85d-2a44e00013c0",
   "metadata": {},
   "outputs": [
    {
     "data": {
      "text/html": [
       "<div>\n",
       "<style scoped>\n",
       "    .dataframe tbody tr th:only-of-type {\n",
       "        vertical-align: middle;\n",
       "    }\n",
       "\n",
       "    .dataframe tbody tr th {\n",
       "        vertical-align: top;\n",
       "    }\n",
       "\n",
       "    .dataframe thead th {\n",
       "        text-align: right;\n",
       "    }\n",
       "</style>\n",
       "<table border=\"1\" class=\"dataframe\">\n",
       "  <thead>\n",
       "    <tr style=\"text-align: right;\">\n",
       "      <th></th>\n",
       "      <th>Country</th>\n",
       "      <th>Stock Price</th>\n",
       "      <th>Sales</th>\n",
       "    </tr>\n",
       "  </thead>\n",
       "  <tbody>\n",
       "    <tr>\n",
       "      <th>0</th>\n",
       "      <td>LEB</td>\n",
       "      <td>31</td>\n",
       "      <td>3112</td>\n",
       "    </tr>\n",
       "    <tr>\n",
       "      <th>1</th>\n",
       "      <td>LEB</td>\n",
       "      <td>321</td>\n",
       "      <td>321221</td>\n",
       "    </tr>\n",
       "    <tr>\n",
       "      <th>2</th>\n",
       "      <td>LEB</td>\n",
       "      <td>15</td>\n",
       "      <td>12321</td>\n",
       "    </tr>\n",
       "    <tr>\n",
       "      <th>3</th>\n",
       "      <td>FR</td>\n",
       "      <td>12</td>\n",
       "      <td>12121</td>\n",
       "    </tr>\n",
       "    <tr>\n",
       "      <th>4</th>\n",
       "      <td>FR</td>\n",
       "      <td>12</td>\n",
       "      <td>122</td>\n",
       "    </tr>\n",
       "    <tr>\n",
       "      <th>5</th>\n",
       "      <td>UY</td>\n",
       "      <td>59</td>\n",
       "      <td>539</td>\n",
       "    </tr>\n",
       "    <tr>\n",
       "      <th>6</th>\n",
       "      <td>UY</td>\n",
       "      <td>130</td>\n",
       "      <td>13120</td>\n",
       "    </tr>\n",
       "    <tr>\n",
       "      <th>7</th>\n",
       "      <td>NIG</td>\n",
       "      <td>320</td>\n",
       "      <td>3520</td>\n",
       "    </tr>\n",
       "    <tr>\n",
       "      <th>8</th>\n",
       "      <td>NIG</td>\n",
       "      <td>90</td>\n",
       "      <td>490</td>\n",
       "    </tr>\n",
       "  </tbody>\n",
       "</table>\n",
       "</div>"
      ],
      "text/plain": [
       "  Country  Stock Price   Sales\n",
       "0     LEB           31    3112\n",
       "1     LEB          321  321221\n",
       "2     LEB           15   12321\n",
       "3      FR           12   12121\n",
       "4      FR           12     122\n",
       "5      UY           59     539\n",
       "6      UY          130   13120\n",
       "7     NIG          320    3520\n",
       "8     NIG           90     490"
      ]
     },
     "execution_count": 57,
     "metadata": {},
     "output_type": "execute_result"
    }
   ],
   "source": [
    "dictionary =  {'Country':['LEB','LEB','LEB','FR','FR','UY','UY','NIG','NIG'],\n",
    "                'Stock Price':[31,321,15,12,12,59,130,320,90],\n",
    "                 'Sales':[3112,321221,12321,12121,122,539,13120,3520,490]}# recall each element in the dictionary is stacked in each column of the dataframe\n",
    "df = pd.DataFrame(dictionary) # numbered is the default index name\n",
    "df"
   ]
  },
  {
   "cell_type": "code",
   "execution_count": 58,
   "id": "05a41852-60cd-460b-a91c-18878338286c",
   "metadata": {},
   "outputs": [
    {
     "data": {
      "text/html": [
       "<div>\n",
       "<style scoped>\n",
       "    .dataframe tbody tr th:only-of-type {\n",
       "        vertical-align: middle;\n",
       "    }\n",
       "\n",
       "    .dataframe tbody tr th {\n",
       "        vertical-align: top;\n",
       "    }\n",
       "\n",
       "    .dataframe thead th {\n",
       "        text-align: right;\n",
       "    }\n",
       "</style>\n",
       "<table border=\"1\" class=\"dataframe\">\n",
       "  <thead>\n",
       "    <tr style=\"text-align: right;\">\n",
       "      <th></th>\n",
       "      <th>Stock Price</th>\n",
       "      <th>Sales</th>\n",
       "    </tr>\n",
       "  </thead>\n",
       "  <tbody>\n",
       "    <tr>\n",
       "      <th>count</th>\n",
       "      <td>9.000000</td>\n",
       "      <td>9.000000</td>\n",
       "    </tr>\n",
       "    <tr>\n",
       "      <th>mean</th>\n",
       "      <td>110.000000</td>\n",
       "      <td>40729.555556</td>\n",
       "    </tr>\n",
       "    <tr>\n",
       "      <th>std</th>\n",
       "      <td>125.745775</td>\n",
       "      <td>105324.700991</td>\n",
       "    </tr>\n",
       "    <tr>\n",
       "      <th>min</th>\n",
       "      <td>12.000000</td>\n",
       "      <td>122.000000</td>\n",
       "    </tr>\n",
       "    <tr>\n",
       "      <th>25%</th>\n",
       "      <td>15.000000</td>\n",
       "      <td>539.000000</td>\n",
       "    </tr>\n",
       "    <tr>\n",
       "      <th>50%</th>\n",
       "      <td>59.000000</td>\n",
       "      <td>3520.000000</td>\n",
       "    </tr>\n",
       "    <tr>\n",
       "      <th>75%</th>\n",
       "      <td>130.000000</td>\n",
       "      <td>12321.000000</td>\n",
       "    </tr>\n",
       "    <tr>\n",
       "      <th>max</th>\n",
       "      <td>321.000000</td>\n",
       "      <td>321221.000000</td>\n",
       "    </tr>\n",
       "  </tbody>\n",
       "</table>\n",
       "</div>"
      ],
      "text/plain": [
       "       Stock Price          Sales\n",
       "count     9.000000       9.000000\n",
       "mean    110.000000   40729.555556\n",
       "std     125.745775  105324.700991\n",
       "min      12.000000     122.000000\n",
       "25%      15.000000     539.000000\n",
       "50%      59.000000    3520.000000\n",
       "75%     130.000000   12321.000000\n",
       "max     321.000000  321221.000000"
      ]
     },
     "execution_count": 58,
     "metadata": {},
     "output_type": "execute_result"
    }
   ],
   "source": [
    "df.describe() # pandas is smart enough to not compute these metrics on the Country column of strings"
   ]
  },
  {
   "cell_type": "code",
   "execution_count": 59,
   "id": "b2755d3f-f4d0-4c2e-994f-b25244ea989f",
   "metadata": {},
   "outputs": [
    {
     "data": {
      "text/plain": [
       "122.0"
      ]
     },
     "execution_count": 59,
     "metadata": {},
     "output_type": "execute_result"
    }
   ],
   "source": [
    "df.describe().loc['min'].loc['Sales']"
   ]
  },
  {
   "cell_type": "code",
   "execution_count": 60,
   "id": "d2d5ac8d-3576-49bb-90e2-db8ca127e5af",
   "metadata": {},
   "outputs": [
    {
     "data": {
      "text/html": [
       "<div>\n",
       "<style scoped>\n",
       "    .dataframe tbody tr th:only-of-type {\n",
       "        vertical-align: middle;\n",
       "    }\n",
       "\n",
       "    .dataframe tbody tr th {\n",
       "        vertical-align: top;\n",
       "    }\n",
       "\n",
       "    .dataframe thead th {\n",
       "        text-align: right;\n",
       "    }\n",
       "</style>\n",
       "<table border=\"1\" class=\"dataframe\">\n",
       "  <thead>\n",
       "    <tr style=\"text-align: right;\">\n",
       "      <th></th>\n",
       "      <th>Country</th>\n",
       "      <th>FR</th>\n",
       "      <th>LEB</th>\n",
       "      <th>NIG</th>\n",
       "      <th>UY</th>\n",
       "    </tr>\n",
       "  </thead>\n",
       "  <tbody>\n",
       "    <tr>\n",
       "      <th rowspan=\"8\" valign=\"top\">Stock Price</th>\n",
       "      <th>count</th>\n",
       "      <td>2.000000</td>\n",
       "      <td>3.000000</td>\n",
       "      <td>2.000000</td>\n",
       "      <td>2.000000</td>\n",
       "    </tr>\n",
       "    <tr>\n",
       "      <th>mean</th>\n",
       "      <td>12.000000</td>\n",
       "      <td>122.333333</td>\n",
       "      <td>205.000000</td>\n",
       "      <td>94.500000</td>\n",
       "    </tr>\n",
       "    <tr>\n",
       "      <th>std</th>\n",
       "      <td>0.000000</td>\n",
       "      <td>172.236272</td>\n",
       "      <td>162.634560</td>\n",
       "      <td>50.204581</td>\n",
       "    </tr>\n",
       "    <tr>\n",
       "      <th>min</th>\n",
       "      <td>12.000000</td>\n",
       "      <td>15.000000</td>\n",
       "      <td>90.000000</td>\n",
       "      <td>59.000000</td>\n",
       "    </tr>\n",
       "    <tr>\n",
       "      <th>25%</th>\n",
       "      <td>12.000000</td>\n",
       "      <td>23.000000</td>\n",
       "      <td>147.500000</td>\n",
       "      <td>76.750000</td>\n",
       "    </tr>\n",
       "    <tr>\n",
       "      <th>50%</th>\n",
       "      <td>12.000000</td>\n",
       "      <td>31.000000</td>\n",
       "      <td>205.000000</td>\n",
       "      <td>94.500000</td>\n",
       "    </tr>\n",
       "    <tr>\n",
       "      <th>75%</th>\n",
       "      <td>12.000000</td>\n",
       "      <td>176.000000</td>\n",
       "      <td>262.500000</td>\n",
       "      <td>112.250000</td>\n",
       "    </tr>\n",
       "    <tr>\n",
       "      <th>max</th>\n",
       "      <td>12.000000</td>\n",
       "      <td>321.000000</td>\n",
       "      <td>320.000000</td>\n",
       "      <td>130.000000</td>\n",
       "    </tr>\n",
       "    <tr>\n",
       "      <th rowspan=\"8\" valign=\"top\">Sales</th>\n",
       "      <th>count</th>\n",
       "      <td>2.000000</td>\n",
       "      <td>3.000000</td>\n",
       "      <td>2.000000</td>\n",
       "      <td>2.000000</td>\n",
       "    </tr>\n",
       "    <tr>\n",
       "      <th>mean</th>\n",
       "      <td>6121.500000</td>\n",
       "      <td>112218.000000</td>\n",
       "      <td>2005.000000</td>\n",
       "      <td>6829.500000</td>\n",
       "    </tr>\n",
       "    <tr>\n",
       "      <th>std</th>\n",
       "      <td>8484.574267</td>\n",
       "      <td>181060.464837</td>\n",
       "      <td>2142.533547</td>\n",
       "      <td>8896.110414</td>\n",
       "    </tr>\n",
       "    <tr>\n",
       "      <th>min</th>\n",
       "      <td>122.000000</td>\n",
       "      <td>3112.000000</td>\n",
       "      <td>490.000000</td>\n",
       "      <td>539.000000</td>\n",
       "    </tr>\n",
       "    <tr>\n",
       "      <th>25%</th>\n",
       "      <td>3121.750000</td>\n",
       "      <td>7716.500000</td>\n",
       "      <td>1247.500000</td>\n",
       "      <td>3684.250000</td>\n",
       "    </tr>\n",
       "    <tr>\n",
       "      <th>50%</th>\n",
       "      <td>6121.500000</td>\n",
       "      <td>12321.000000</td>\n",
       "      <td>2005.000000</td>\n",
       "      <td>6829.500000</td>\n",
       "    </tr>\n",
       "    <tr>\n",
       "      <th>75%</th>\n",
       "      <td>9121.250000</td>\n",
       "      <td>166771.000000</td>\n",
       "      <td>2762.500000</td>\n",
       "      <td>9974.750000</td>\n",
       "    </tr>\n",
       "    <tr>\n",
       "      <th>max</th>\n",
       "      <td>12121.000000</td>\n",
       "      <td>321221.000000</td>\n",
       "      <td>3520.000000</td>\n",
       "      <td>13120.000000</td>\n",
       "    </tr>\n",
       "  </tbody>\n",
       "</table>\n",
       "</div>"
      ],
      "text/plain": [
       "Country                      FR            LEB          NIG            UY\n",
       "Stock Price count      2.000000       3.000000     2.000000      2.000000\n",
       "            mean      12.000000     122.333333   205.000000     94.500000\n",
       "            std        0.000000     172.236272   162.634560     50.204581\n",
       "            min       12.000000      15.000000    90.000000     59.000000\n",
       "            25%       12.000000      23.000000   147.500000     76.750000\n",
       "            50%       12.000000      31.000000   205.000000     94.500000\n",
       "            75%       12.000000     176.000000   262.500000    112.250000\n",
       "            max       12.000000     321.000000   320.000000    130.000000\n",
       "Sales       count      2.000000       3.000000     2.000000      2.000000\n",
       "            mean    6121.500000  112218.000000  2005.000000   6829.500000\n",
       "            std     8484.574267  181060.464837  2142.533547   8896.110414\n",
       "            min      122.000000    3112.000000   490.000000    539.000000\n",
       "            25%     3121.750000    7716.500000  1247.500000   3684.250000\n",
       "            50%     6121.500000   12321.000000  2005.000000   6829.500000\n",
       "            75%     9121.250000  166771.000000  2762.500000   9974.750000\n",
       "            max    12121.000000  321221.000000  3520.000000  13120.000000"
      ]
     },
     "execution_count": 60,
     "metadata": {},
     "output_type": "execute_result"
    }
   ],
   "source": [
    "df.groupby('Country').describe().T"
   ]
  },
  {
   "cell_type": "code",
   "execution_count": 61,
   "id": "ffe1592d-140c-4aa8-9d2d-56c3845bd1f4",
   "metadata": {},
   "outputs": [
    {
     "data": {
      "text/html": [
       "<div>\n",
       "<style scoped>\n",
       "    .dataframe tbody tr th:only-of-type {\n",
       "        vertical-align: middle;\n",
       "    }\n",
       "\n",
       "    .dataframe tbody tr th {\n",
       "        vertical-align: top;\n",
       "    }\n",
       "\n",
       "    .dataframe thead th {\n",
       "        text-align: right;\n",
       "    }\n",
       "</style>\n",
       "<table border=\"1\" class=\"dataframe\">\n",
       "  <thead>\n",
       "    <tr style=\"text-align: right;\">\n",
       "      <th></th>\n",
       "      <th>Stock Price</th>\n",
       "      <th>Sales</th>\n",
       "    </tr>\n",
       "    <tr>\n",
       "      <th>Country</th>\n",
       "      <th></th>\n",
       "      <th></th>\n",
       "    </tr>\n",
       "  </thead>\n",
       "  <tbody>\n",
       "    <tr>\n",
       "      <th>FR</th>\n",
       "      <td>12.000000</td>\n",
       "      <td>6121.5</td>\n",
       "    </tr>\n",
       "    <tr>\n",
       "      <th>LEB</th>\n",
       "      <td>122.333333</td>\n",
       "      <td>112218.0</td>\n",
       "    </tr>\n",
       "    <tr>\n",
       "      <th>NIG</th>\n",
       "      <td>205.000000</td>\n",
       "      <td>2005.0</td>\n",
       "    </tr>\n",
       "    <tr>\n",
       "      <th>UY</th>\n",
       "      <td>94.500000</td>\n",
       "      <td>6829.5</td>\n",
       "    </tr>\n",
       "  </tbody>\n",
       "</table>\n",
       "</div>"
      ],
      "text/plain": [
       "         Stock Price     Sales\n",
       "Country                       \n",
       "FR         12.000000    6121.5\n",
       "LEB       122.333333  112218.0\n",
       "NIG       205.000000    2005.0\n",
       "UY         94.500000    6829.5"
      ]
     },
     "execution_count": 61,
     "metadata": {},
     "output_type": "execute_result"
    }
   ],
   "source": [
    "df.groupby('Country').mean()"
   ]
  },
  {
   "cell_type": "code",
   "execution_count": 62,
   "id": "62988e0b-7d1f-4ae3-89b0-817b51e6c5b0",
   "metadata": {},
   "outputs": [
    {
     "data": {
      "text/html": [
       "<div>\n",
       "<style scoped>\n",
       "    .dataframe tbody tr th:only-of-type {\n",
       "        vertical-align: middle;\n",
       "    }\n",
       "\n",
       "    .dataframe tbody tr th {\n",
       "        vertical-align: top;\n",
       "    }\n",
       "\n",
       "    .dataframe thead th {\n",
       "        text-align: right;\n",
       "    }\n",
       "</style>\n",
       "<table border=\"1\" class=\"dataframe\">\n",
       "  <thead>\n",
       "    <tr style=\"text-align: right;\">\n",
       "      <th></th>\n",
       "      <th>Stock Price</th>\n",
       "      <th>Sales</th>\n",
       "    </tr>\n",
       "    <tr>\n",
       "      <th>Country</th>\n",
       "      <th></th>\n",
       "      <th></th>\n",
       "    </tr>\n",
       "  </thead>\n",
       "  <tbody>\n",
       "    <tr>\n",
       "      <th>FR</th>\n",
       "      <td>0.000000</td>\n",
       "      <td>8484.574267</td>\n",
       "    </tr>\n",
       "    <tr>\n",
       "      <th>LEB</th>\n",
       "      <td>172.236272</td>\n",
       "      <td>181060.464837</td>\n",
       "    </tr>\n",
       "    <tr>\n",
       "      <th>NIG</th>\n",
       "      <td>162.634560</td>\n",
       "      <td>2142.533547</td>\n",
       "    </tr>\n",
       "    <tr>\n",
       "      <th>UY</th>\n",
       "      <td>50.204581</td>\n",
       "      <td>8896.110414</td>\n",
       "    </tr>\n",
       "  </tbody>\n",
       "</table>\n",
       "</div>"
      ],
      "text/plain": [
       "         Stock Price          Sales\n",
       "Country                            \n",
       "FR          0.000000    8484.574267\n",
       "LEB       172.236272  181060.464837\n",
       "NIG       162.634560    2142.533547\n",
       "UY         50.204581    8896.110414"
      ]
     },
     "execution_count": 62,
     "metadata": {},
     "output_type": "execute_result"
    }
   ],
   "source": [
    "df.groupby('Country').std()"
   ]
  },
  {
   "cell_type": "code",
   "execution_count": 63,
   "id": "1ced10dd-1b9b-406c-b0ca-e56ad668a05f",
   "metadata": {},
   "outputs": [
    {
     "data": {
      "text/html": [
       "<div>\n",
       "<style scoped>\n",
       "    .dataframe tbody tr th:only-of-type {\n",
       "        vertical-align: middle;\n",
       "    }\n",
       "\n",
       "    .dataframe tbody tr th {\n",
       "        vertical-align: top;\n",
       "    }\n",
       "\n",
       "    .dataframe thead th {\n",
       "        text-align: right;\n",
       "    }\n",
       "</style>\n",
       "<table border=\"1\" class=\"dataframe\">\n",
       "  <thead>\n",
       "    <tr style=\"text-align: right;\">\n",
       "      <th></th>\n",
       "      <th>Stock Price</th>\n",
       "      <th>Sales</th>\n",
       "    </tr>\n",
       "    <tr>\n",
       "      <th>Country</th>\n",
       "      <th></th>\n",
       "      <th></th>\n",
       "    </tr>\n",
       "  </thead>\n",
       "  <tbody>\n",
       "    <tr>\n",
       "      <th>FR</th>\n",
       "      <td>12</td>\n",
       "      <td>122</td>\n",
       "    </tr>\n",
       "    <tr>\n",
       "      <th>LEB</th>\n",
       "      <td>15</td>\n",
       "      <td>3112</td>\n",
       "    </tr>\n",
       "    <tr>\n",
       "      <th>NIG</th>\n",
       "      <td>90</td>\n",
       "      <td>490</td>\n",
       "    </tr>\n",
       "    <tr>\n",
       "      <th>UY</th>\n",
       "      <td>59</td>\n",
       "      <td>539</td>\n",
       "    </tr>\n",
       "  </tbody>\n",
       "</table>\n",
       "</div>"
      ],
      "text/plain": [
       "         Stock Price  Sales\n",
       "Country                    \n",
       "FR                12    122\n",
       "LEB               15   3112\n",
       "NIG               90    490\n",
       "UY                59    539"
      ]
     },
     "execution_count": 63,
     "metadata": {},
     "output_type": "execute_result"
    }
   ],
   "source": [
    "df.groupby('Country').min()"
   ]
  },
  {
   "cell_type": "code",
   "execution_count": 64,
   "id": "2953b862-debb-40ab-a7b5-b989eb74598d",
   "metadata": {},
   "outputs": [
    {
     "data": {
      "text/html": [
       "<div>\n",
       "<style scoped>\n",
       "    .dataframe tbody tr th:only-of-type {\n",
       "        vertical-align: middle;\n",
       "    }\n",
       "\n",
       "    .dataframe tbody tr th {\n",
       "        vertical-align: top;\n",
       "    }\n",
       "\n",
       "    .dataframe thead th {\n",
       "        text-align: right;\n",
       "    }\n",
       "</style>\n",
       "<table border=\"1\" class=\"dataframe\">\n",
       "  <thead>\n",
       "    <tr style=\"text-align: right;\">\n",
       "      <th></th>\n",
       "      <th>Stock Price</th>\n",
       "      <th>Sales</th>\n",
       "    </tr>\n",
       "    <tr>\n",
       "      <th>Country</th>\n",
       "      <th></th>\n",
       "      <th></th>\n",
       "    </tr>\n",
       "  </thead>\n",
       "  <tbody>\n",
       "    <tr>\n",
       "      <th>FR</th>\n",
       "      <td>12</td>\n",
       "      <td>12121</td>\n",
       "    </tr>\n",
       "    <tr>\n",
       "      <th>LEB</th>\n",
       "      <td>321</td>\n",
       "      <td>321221</td>\n",
       "    </tr>\n",
       "    <tr>\n",
       "      <th>NIG</th>\n",
       "      <td>320</td>\n",
       "      <td>3520</td>\n",
       "    </tr>\n",
       "    <tr>\n",
       "      <th>UY</th>\n",
       "      <td>130</td>\n",
       "      <td>13120</td>\n",
       "    </tr>\n",
       "  </tbody>\n",
       "</table>\n",
       "</div>"
      ],
      "text/plain": [
       "         Stock Price   Sales\n",
       "Country                     \n",
       "FR                12   12121\n",
       "LEB              321  321221\n",
       "NIG              320    3520\n",
       "UY               130   13120"
      ]
     },
     "execution_count": 64,
     "metadata": {},
     "output_type": "execute_result"
    }
   ],
   "source": [
    "df.groupby('Country').max()"
   ]
  },
  {
   "cell_type": "code",
   "execution_count": 65,
   "id": "f45eb1f8-1d49-4d9e-b48d-5e7bd6ba82cd",
   "metadata": {},
   "outputs": [
    {
     "data": {
      "text/html": [
       "<div>\n",
       "<style scoped>\n",
       "    .dataframe tbody tr th:only-of-type {\n",
       "        vertical-align: middle;\n",
       "    }\n",
       "\n",
       "    .dataframe tbody tr th {\n",
       "        vertical-align: top;\n",
       "    }\n",
       "\n",
       "    .dataframe thead th {\n",
       "        text-align: right;\n",
       "    }\n",
       "</style>\n",
       "<table border=\"1\" class=\"dataframe\">\n",
       "  <thead>\n",
       "    <tr style=\"text-align: right;\">\n",
       "      <th></th>\n",
       "      <th>Country</th>\n",
       "      <th>Stock Price</th>\n",
       "      <th>Sales</th>\n",
       "    </tr>\n",
       "  </thead>\n",
       "  <tbody>\n",
       "    <tr>\n",
       "      <th>0</th>\n",
       "      <td>LEB</td>\n",
       "      <td>31</td>\n",
       "      <td>3112</td>\n",
       "    </tr>\n",
       "    <tr>\n",
       "      <th>1</th>\n",
       "      <td>LEB</td>\n",
       "      <td>321</td>\n",
       "      <td>321221</td>\n",
       "    </tr>\n",
       "    <tr>\n",
       "      <th>2</th>\n",
       "      <td>LEB</td>\n",
       "      <td>15</td>\n",
       "      <td>12321</td>\n",
       "    </tr>\n",
       "    <tr>\n",
       "      <th>3</th>\n",
       "      <td>FR</td>\n",
       "      <td>12</td>\n",
       "      <td>12121</td>\n",
       "    </tr>\n",
       "    <tr>\n",
       "      <th>4</th>\n",
       "      <td>FR</td>\n",
       "      <td>12</td>\n",
       "      <td>122</td>\n",
       "    </tr>\n",
       "    <tr>\n",
       "      <th>5</th>\n",
       "      <td>UY</td>\n",
       "      <td>59</td>\n",
       "      <td>539</td>\n",
       "    </tr>\n",
       "    <tr>\n",
       "      <th>6</th>\n",
       "      <td>UY</td>\n",
       "      <td>130</td>\n",
       "      <td>13120</td>\n",
       "    </tr>\n",
       "    <tr>\n",
       "      <th>7</th>\n",
       "      <td>NIG</td>\n",
       "      <td>320</td>\n",
       "      <td>3520</td>\n",
       "    </tr>\n",
       "    <tr>\n",
       "      <th>8</th>\n",
       "      <td>NIG</td>\n",
       "      <td>90</td>\n",
       "      <td>490</td>\n",
       "    </tr>\n",
       "  </tbody>\n",
       "</table>\n",
       "</div>"
      ],
      "text/plain": [
       "  Country  Stock Price   Sales\n",
       "0     LEB           31    3112\n",
       "1     LEB          321  321221\n",
       "2     LEB           15   12321\n",
       "3      FR           12   12121\n",
       "4      FR           12     122\n",
       "5      UY           59     539\n",
       "6      UY          130   13120\n",
       "7     NIG          320    3520\n",
       "8     NIG           90     490"
      ]
     },
     "execution_count": 65,
     "metadata": {},
     "output_type": "execute_result"
    }
   ],
   "source": [
    "df"
   ]
  },
  {
   "cell_type": "markdown",
   "id": "ae616a6b-e7a0-4474-a906-73c1565aa842",
   "metadata": {},
   "source": [
    "## 3.3 Concatenation"
   ]
  },
  {
   "cell_type": "code",
   "execution_count": 66,
   "id": "515730f4-0c3a-41ed-971f-eedb94852acf",
   "metadata": {},
   "outputs": [],
   "source": [
    "DF1 = pd.DataFrame({'A':[1,2,3,4],\n",
    "                    'B':[10,20,30,40],\n",
    "                    'C':[100,200,300,400]})\n",
    "DF2 = pd.DataFrame({'A':[5,6,7,8],\n",
    "                    'B':[50,60,70,80],\n",
    "                    'C':[500,600,700,800]})\n",
    "DF3 = pd.DataFrame({'A':[9,10,11,12],\n",
    "                    'B':[90,100,110,120],\n",
    "                    'C':[900,1000,1100,1200]})"
   ]
  },
  {
   "cell_type": "code",
   "execution_count": 67,
   "id": "231fd106-5f6c-4296-b3a2-d1502b886a5f",
   "metadata": {},
   "outputs": [
    {
     "data": {
      "text/html": [
       "<div>\n",
       "<style scoped>\n",
       "    .dataframe tbody tr th:only-of-type {\n",
       "        vertical-align: middle;\n",
       "    }\n",
       "\n",
       "    .dataframe tbody tr th {\n",
       "        vertical-align: top;\n",
       "    }\n",
       "\n",
       "    .dataframe thead th {\n",
       "        text-align: right;\n",
       "    }\n",
       "</style>\n",
       "<table border=\"1\" class=\"dataframe\">\n",
       "  <thead>\n",
       "    <tr style=\"text-align: right;\">\n",
       "      <th></th>\n",
       "      <th>A</th>\n",
       "      <th>B</th>\n",
       "      <th>C</th>\n",
       "    </tr>\n",
       "  </thead>\n",
       "  <tbody>\n",
       "    <tr>\n",
       "      <th>0</th>\n",
       "      <td>1</td>\n",
       "      <td>10</td>\n",
       "      <td>100</td>\n",
       "    </tr>\n",
       "    <tr>\n",
       "      <th>1</th>\n",
       "      <td>2</td>\n",
       "      <td>20</td>\n",
       "      <td>200</td>\n",
       "    </tr>\n",
       "    <tr>\n",
       "      <th>2</th>\n",
       "      <td>3</td>\n",
       "      <td>30</td>\n",
       "      <td>300</td>\n",
       "    </tr>\n",
       "    <tr>\n",
       "      <th>3</th>\n",
       "      <td>4</td>\n",
       "      <td>40</td>\n",
       "      <td>400</td>\n",
       "    </tr>\n",
       "  </tbody>\n",
       "</table>\n",
       "</div>"
      ],
      "text/plain": [
       "   A   B    C\n",
       "0  1  10  100\n",
       "1  2  20  200\n",
       "2  3  30  300\n",
       "3  4  40  400"
      ]
     },
     "execution_count": 67,
     "metadata": {},
     "output_type": "execute_result"
    }
   ],
   "source": [
    "DF1"
   ]
  },
  {
   "cell_type": "code",
   "execution_count": 68,
   "id": "f0206b08-315d-4fe9-a1ee-0e9aeace780e",
   "metadata": {},
   "outputs": [
    {
     "data": {
      "text/html": [
       "<div>\n",
       "<style scoped>\n",
       "    .dataframe tbody tr th:only-of-type {\n",
       "        vertical-align: middle;\n",
       "    }\n",
       "\n",
       "    .dataframe tbody tr th {\n",
       "        vertical-align: top;\n",
       "    }\n",
       "\n",
       "    .dataframe thead th {\n",
       "        text-align: right;\n",
       "    }\n",
       "</style>\n",
       "<table border=\"1\" class=\"dataframe\">\n",
       "  <thead>\n",
       "    <tr style=\"text-align: right;\">\n",
       "      <th></th>\n",
       "      <th>A</th>\n",
       "      <th>B</th>\n",
       "      <th>C</th>\n",
       "    </tr>\n",
       "  </thead>\n",
       "  <tbody>\n",
       "    <tr>\n",
       "      <th>0</th>\n",
       "      <td>5</td>\n",
       "      <td>50</td>\n",
       "      <td>500</td>\n",
       "    </tr>\n",
       "    <tr>\n",
       "      <th>1</th>\n",
       "      <td>6</td>\n",
       "      <td>60</td>\n",
       "      <td>600</td>\n",
       "    </tr>\n",
       "    <tr>\n",
       "      <th>2</th>\n",
       "      <td>7</td>\n",
       "      <td>70</td>\n",
       "      <td>700</td>\n",
       "    </tr>\n",
       "    <tr>\n",
       "      <th>3</th>\n",
       "      <td>8</td>\n",
       "      <td>80</td>\n",
       "      <td>800</td>\n",
       "    </tr>\n",
       "  </tbody>\n",
       "</table>\n",
       "</div>"
      ],
      "text/plain": [
       "   A   B    C\n",
       "0  5  50  500\n",
       "1  6  60  600\n",
       "2  7  70  700\n",
       "3  8  80  800"
      ]
     },
     "execution_count": 68,
     "metadata": {},
     "output_type": "execute_result"
    }
   ],
   "source": [
    "DF2"
   ]
  },
  {
   "cell_type": "code",
   "execution_count": 69,
   "id": "024c7190-7cb2-435d-b286-6b9cc7babd4b",
   "metadata": {},
   "outputs": [
    {
     "data": {
      "text/html": [
       "<div>\n",
       "<style scoped>\n",
       "    .dataframe tbody tr th:only-of-type {\n",
       "        vertical-align: middle;\n",
       "    }\n",
       "\n",
       "    .dataframe tbody tr th {\n",
       "        vertical-align: top;\n",
       "    }\n",
       "\n",
       "    .dataframe thead th {\n",
       "        text-align: right;\n",
       "    }\n",
       "</style>\n",
       "<table border=\"1\" class=\"dataframe\">\n",
       "  <thead>\n",
       "    <tr style=\"text-align: right;\">\n",
       "      <th></th>\n",
       "      <th>A</th>\n",
       "      <th>B</th>\n",
       "      <th>C</th>\n",
       "    </tr>\n",
       "  </thead>\n",
       "  <tbody>\n",
       "    <tr>\n",
       "      <th>0</th>\n",
       "      <td>9</td>\n",
       "      <td>90</td>\n",
       "      <td>900</td>\n",
       "    </tr>\n",
       "    <tr>\n",
       "      <th>1</th>\n",
       "      <td>10</td>\n",
       "      <td>100</td>\n",
       "      <td>1000</td>\n",
       "    </tr>\n",
       "    <tr>\n",
       "      <th>2</th>\n",
       "      <td>11</td>\n",
       "      <td>110</td>\n",
       "      <td>1100</td>\n",
       "    </tr>\n",
       "    <tr>\n",
       "      <th>3</th>\n",
       "      <td>12</td>\n",
       "      <td>120</td>\n",
       "      <td>1200</td>\n",
       "    </tr>\n",
       "  </tbody>\n",
       "</table>\n",
       "</div>"
      ],
      "text/plain": [
       "    A    B     C\n",
       "0   9   90   900\n",
       "1  10  100  1000\n",
       "2  11  110  1100\n",
       "3  12  120  1200"
      ]
     },
     "execution_count": 69,
     "metadata": {},
     "output_type": "execute_result"
    }
   ],
   "source": [
    "DF3"
   ]
  },
  {
   "cell_type": "code",
   "execution_count": 70,
   "id": "a9474f22-899b-4fd8-8bb7-e22d524946e2",
   "metadata": {},
   "outputs": [
    {
     "data": {
      "text/html": [
       "<div>\n",
       "<style scoped>\n",
       "    .dataframe tbody tr th:only-of-type {\n",
       "        vertical-align: middle;\n",
       "    }\n",
       "\n",
       "    .dataframe tbody tr th {\n",
       "        vertical-align: top;\n",
       "    }\n",
       "\n",
       "    .dataframe thead th {\n",
       "        text-align: right;\n",
       "    }\n",
       "</style>\n",
       "<table border=\"1\" class=\"dataframe\">\n",
       "  <thead>\n",
       "    <tr style=\"text-align: right;\">\n",
       "      <th></th>\n",
       "      <th>A</th>\n",
       "      <th>B</th>\n",
       "      <th>C</th>\n",
       "      <th>A</th>\n",
       "      <th>B</th>\n",
       "      <th>C</th>\n",
       "      <th>A</th>\n",
       "      <th>B</th>\n",
       "      <th>C</th>\n",
       "    </tr>\n",
       "  </thead>\n",
       "  <tbody>\n",
       "    <tr>\n",
       "      <th>0</th>\n",
       "      <td>1</td>\n",
       "      <td>10</td>\n",
       "      <td>100</td>\n",
       "      <td>5</td>\n",
       "      <td>50</td>\n",
       "      <td>500</td>\n",
       "      <td>9</td>\n",
       "      <td>90</td>\n",
       "      <td>900</td>\n",
       "    </tr>\n",
       "    <tr>\n",
       "      <th>1</th>\n",
       "      <td>2</td>\n",
       "      <td>20</td>\n",
       "      <td>200</td>\n",
       "      <td>6</td>\n",
       "      <td>60</td>\n",
       "      <td>600</td>\n",
       "      <td>10</td>\n",
       "      <td>100</td>\n",
       "      <td>1000</td>\n",
       "    </tr>\n",
       "    <tr>\n",
       "      <th>2</th>\n",
       "      <td>3</td>\n",
       "      <td>30</td>\n",
       "      <td>300</td>\n",
       "      <td>7</td>\n",
       "      <td>70</td>\n",
       "      <td>700</td>\n",
       "      <td>11</td>\n",
       "      <td>110</td>\n",
       "      <td>1100</td>\n",
       "    </tr>\n",
       "    <tr>\n",
       "      <th>3</th>\n",
       "      <td>4</td>\n",
       "      <td>40</td>\n",
       "      <td>400</td>\n",
       "      <td>8</td>\n",
       "      <td>80</td>\n",
       "      <td>800</td>\n",
       "      <td>12</td>\n",
       "      <td>120</td>\n",
       "      <td>1200</td>\n",
       "    </tr>\n",
       "  </tbody>\n",
       "</table>\n",
       "</div>"
      ],
      "text/plain": [
       "   A   B    C  A   B    C   A    B     C\n",
       "0  1  10  100  5  50  500   9   90   900\n",
       "1  2  20  200  6  60  600  10  100  1000\n",
       "2  3  30  300  7  70  700  11  110  1100\n",
       "3  4  40  400  8  80  800  12  120  1200"
      ]
     },
     "execution_count": 70,
     "metadata": {},
     "output_type": "execute_result"
    }
   ],
   "source": [
    "DF = pd.concat([DF1,DF2,DF3],axis=1) # Concat next to each other, axis=0 for stacking on top of one another\n",
    "DF"
   ]
  },
  {
   "cell_type": "markdown",
   "id": "01c69afa-76c7-41ef-9704-fd00538dac59",
   "metadata": {},
   "source": [
    "## 3.4 Merging"
   ]
  },
  {
   "cell_type": "code",
   "execution_count": 71,
   "id": "e9fdcb01-eed9-4d27-bab9-960fc5569919",
   "metadata": {},
   "outputs": [],
   "source": [
    "D1 = pd.DataFrame({'A':[1,2,3,4],\n",
    "                    'B':[10,20,30,40],\n",
    "                    'C':[100,200,300,400]})\n",
    "D2 = pd.DataFrame({'C':[100,200,300,400],\n",
    "                    'D':[10,20,30,40],\n",
    "                    'E':[100,200,300,400]})"
   ]
  },
  {
   "cell_type": "code",
   "execution_count": 72,
   "id": "45cde0bf-e234-415a-8107-0db176ea003b",
   "metadata": {},
   "outputs": [
    {
     "data": {
      "text/html": [
       "<div>\n",
       "<style scoped>\n",
       "    .dataframe tbody tr th:only-of-type {\n",
       "        vertical-align: middle;\n",
       "    }\n",
       "\n",
       "    .dataframe tbody tr th {\n",
       "        vertical-align: top;\n",
       "    }\n",
       "\n",
       "    .dataframe thead th {\n",
       "        text-align: right;\n",
       "    }\n",
       "</style>\n",
       "<table border=\"1\" class=\"dataframe\">\n",
       "  <thead>\n",
       "    <tr style=\"text-align: right;\">\n",
       "      <th></th>\n",
       "      <th>A</th>\n",
       "      <th>B</th>\n",
       "      <th>C</th>\n",
       "      <th>D</th>\n",
       "      <th>E</th>\n",
       "    </tr>\n",
       "  </thead>\n",
       "  <tbody>\n",
       "    <tr>\n",
       "      <th>0</th>\n",
       "      <td>1</td>\n",
       "      <td>10</td>\n",
       "      <td>100</td>\n",
       "      <td>10</td>\n",
       "      <td>100</td>\n",
       "    </tr>\n",
       "    <tr>\n",
       "      <th>1</th>\n",
       "      <td>2</td>\n",
       "      <td>20</td>\n",
       "      <td>200</td>\n",
       "      <td>20</td>\n",
       "      <td>200</td>\n",
       "    </tr>\n",
       "    <tr>\n",
       "      <th>2</th>\n",
       "      <td>3</td>\n",
       "      <td>30</td>\n",
       "      <td>300</td>\n",
       "      <td>30</td>\n",
       "      <td>300</td>\n",
       "    </tr>\n",
       "    <tr>\n",
       "      <th>3</th>\n",
       "      <td>4</td>\n",
       "      <td>40</td>\n",
       "      <td>400</td>\n",
       "      <td>40</td>\n",
       "      <td>400</td>\n",
       "    </tr>\n",
       "  </tbody>\n",
       "</table>\n",
       "</div>"
      ],
      "text/plain": [
       "   A   B    C   D    E\n",
       "0  1  10  100  10  100\n",
       "1  2  20  200  20  200\n",
       "2  3  30  300  30  300\n",
       "3  4  40  400  40  400"
      ]
     },
     "execution_count": 72,
     "metadata": {},
     "output_type": "execute_result"
    }
   ],
   "source": [
    "pd.merge(D1,D2)"
   ]
  },
  {
   "cell_type": "code",
   "execution_count": 73,
   "id": "ee6d63bd-9d08-4a1d-bc10-1c75c193fa60",
   "metadata": {},
   "outputs": [
    {
     "data": {
      "text/html": [
       "<div>\n",
       "<style scoped>\n",
       "    .dataframe tbody tr th:only-of-type {\n",
       "        vertical-align: middle;\n",
       "    }\n",
       "\n",
       "    .dataframe tbody tr th {\n",
       "        vertical-align: top;\n",
       "    }\n",
       "\n",
       "    .dataframe thead th {\n",
       "        text-align: right;\n",
       "    }\n",
       "</style>\n",
       "<table border=\"1\" class=\"dataframe\">\n",
       "  <thead>\n",
       "    <tr style=\"text-align: right;\">\n",
       "      <th></th>\n",
       "      <th>A</th>\n",
       "      <th>B</th>\n",
       "      <th>C</th>\n",
       "      <th>C</th>\n",
       "      <th>D</th>\n",
       "      <th>E</th>\n",
       "    </tr>\n",
       "  </thead>\n",
       "  <tbody>\n",
       "    <tr>\n",
       "      <th>0</th>\n",
       "      <td>1</td>\n",
       "      <td>10</td>\n",
       "      <td>100</td>\n",
       "      <td>100</td>\n",
       "      <td>10</td>\n",
       "      <td>100</td>\n",
       "    </tr>\n",
       "    <tr>\n",
       "      <th>1</th>\n",
       "      <td>2</td>\n",
       "      <td>20</td>\n",
       "      <td>200</td>\n",
       "      <td>200</td>\n",
       "      <td>20</td>\n",
       "      <td>200</td>\n",
       "    </tr>\n",
       "    <tr>\n",
       "      <th>2</th>\n",
       "      <td>3</td>\n",
       "      <td>30</td>\n",
       "      <td>300</td>\n",
       "      <td>300</td>\n",
       "      <td>30</td>\n",
       "      <td>300</td>\n",
       "    </tr>\n",
       "    <tr>\n",
       "      <th>3</th>\n",
       "      <td>4</td>\n",
       "      <td>40</td>\n",
       "      <td>400</td>\n",
       "      <td>400</td>\n",
       "      <td>40</td>\n",
       "      <td>400</td>\n",
       "    </tr>\n",
       "  </tbody>\n",
       "</table>\n",
       "</div>"
      ],
      "text/plain": [
       "   A   B    C    C   D    E\n",
       "0  1  10  100  100  10  100\n",
       "1  2  20  200  200  20  200\n",
       "2  3  30  300  300  30  300\n",
       "3  4  40  400  400  40  400"
      ]
     },
     "execution_count": 73,
     "metadata": {},
     "output_type": "execute_result"
    }
   ],
   "source": [
    "pd.concat([D1,D2],axis=1) # Notice how C is redundant"
   ]
  },
  {
   "cell_type": "code",
   "execution_count": 74,
   "id": "2f2427b9-0f95-4390-89e6-7f4bc3610e11",
   "metadata": {},
   "outputs": [
    {
     "data": {
      "text/html": [
       "<div>\n",
       "<style scoped>\n",
       "    .dataframe tbody tr th:only-of-type {\n",
       "        vertical-align: middle;\n",
       "    }\n",
       "\n",
       "    .dataframe tbody tr th {\n",
       "        vertical-align: top;\n",
       "    }\n",
       "\n",
       "    .dataframe thead th {\n",
       "        text-align: right;\n",
       "    }\n",
       "</style>\n",
       "<table border=\"1\" class=\"dataframe\">\n",
       "  <thead>\n",
       "    <tr style=\"text-align: right;\">\n",
       "      <th></th>\n",
       "      <th>A</th>\n",
       "      <th>B</th>\n",
       "      <th>C</th>\n",
       "    </tr>\n",
       "  </thead>\n",
       "  <tbody>\n",
       "    <tr>\n",
       "      <th>0</th>\n",
       "      <td>1</td>\n",
       "      <td>10</td>\n",
       "      <td>100</td>\n",
       "    </tr>\n",
       "    <tr>\n",
       "      <th>1</th>\n",
       "      <td>2</td>\n",
       "      <td>20</td>\n",
       "      <td>200</td>\n",
       "    </tr>\n",
       "    <tr>\n",
       "      <th>2</th>\n",
       "      <td>3</td>\n",
       "      <td>30</td>\n",
       "      <td>300</td>\n",
       "    </tr>\n",
       "    <tr>\n",
       "      <th>3</th>\n",
       "      <td>4</td>\n",
       "      <td>40</td>\n",
       "      <td>400</td>\n",
       "    </tr>\n",
       "  </tbody>\n",
       "</table>\n",
       "</div>"
      ],
      "text/plain": [
       "   A   B    C\n",
       "0  1  10  100\n",
       "1  2  20  200\n",
       "2  3  30  300\n",
       "3  4  40  400"
      ]
     },
     "execution_count": 74,
     "metadata": {},
     "output_type": "execute_result"
    }
   ],
   "source": [
    "DF1"
   ]
  },
  {
   "cell_type": "code",
   "execution_count": 75,
   "id": "732dddf3-a2b3-4183-be5e-9740bf630922",
   "metadata": {},
   "outputs": [
    {
     "data": {
      "text/html": [
       "<div>\n",
       "<style scoped>\n",
       "    .dataframe tbody tr th:only-of-type {\n",
       "        vertical-align: middle;\n",
       "    }\n",
       "\n",
       "    .dataframe tbody tr th {\n",
       "        vertical-align: top;\n",
       "    }\n",
       "\n",
       "    .dataframe thead th {\n",
       "        text-align: right;\n",
       "    }\n",
       "</style>\n",
       "<table border=\"1\" class=\"dataframe\">\n",
       "  <thead>\n",
       "    <tr style=\"text-align: right;\">\n",
       "      <th></th>\n",
       "      <th>A</th>\n",
       "      <th>B</th>\n",
       "      <th>C</th>\n",
       "    </tr>\n",
       "  </thead>\n",
       "  <tbody>\n",
       "    <tr>\n",
       "      <th>0</th>\n",
       "      <td>5</td>\n",
       "      <td>50</td>\n",
       "      <td>500</td>\n",
       "    </tr>\n",
       "    <tr>\n",
       "      <th>1</th>\n",
       "      <td>6</td>\n",
       "      <td>60</td>\n",
       "      <td>600</td>\n",
       "    </tr>\n",
       "    <tr>\n",
       "      <th>2</th>\n",
       "      <td>7</td>\n",
       "      <td>70</td>\n",
       "      <td>700</td>\n",
       "    </tr>\n",
       "    <tr>\n",
       "      <th>3</th>\n",
       "      <td>8</td>\n",
       "      <td>80</td>\n",
       "      <td>800</td>\n",
       "    </tr>\n",
       "  </tbody>\n",
       "</table>\n",
       "</div>"
      ],
      "text/plain": [
       "   A   B    C\n",
       "0  5  50  500\n",
       "1  6  60  600\n",
       "2  7  70  700\n",
       "3  8  80  800"
      ]
     },
     "execution_count": 75,
     "metadata": {},
     "output_type": "execute_result"
    }
   ],
   "source": [
    "DF2"
   ]
  },
  {
   "cell_type": "code",
   "execution_count": 76,
   "id": "c3d5c586-c554-4a1b-ad7a-eaf30e8678b3",
   "metadata": {},
   "outputs": [
    {
     "data": {
      "text/html": [
       "<div>\n",
       "<style scoped>\n",
       "    .dataframe tbody tr th:only-of-type {\n",
       "        vertical-align: middle;\n",
       "    }\n",
       "\n",
       "    .dataframe tbody tr th {\n",
       "        vertical-align: top;\n",
       "    }\n",
       "\n",
       "    .dataframe thead th {\n",
       "        text-align: right;\n",
       "    }\n",
       "</style>\n",
       "<table border=\"1\" class=\"dataframe\">\n",
       "  <thead>\n",
       "    <tr style=\"text-align: right;\">\n",
       "      <th></th>\n",
       "      <th>A</th>\n",
       "      <th>B</th>\n",
       "      <th>C</th>\n",
       "    </tr>\n",
       "  </thead>\n",
       "  <tbody>\n",
       "  </tbody>\n",
       "</table>\n",
       "</div>"
      ],
      "text/plain": [
       "Empty DataFrame\n",
       "Columns: [A, B, C]\n",
       "Index: []"
      ]
     },
     "execution_count": 76,
     "metadata": {},
     "output_type": "execute_result"
    }
   ],
   "source": [
    "pd.merge(DF1,DF2) # Empty because there are common columns shared across dataframes"
   ]
  },
  {
   "cell_type": "markdown",
   "id": "92642979-c95f-4160-8ea4-9f4f694d43e8",
   "metadata": {},
   "source": [
    "## 3.5 Unique Values"
   ]
  },
  {
   "cell_type": "code",
   "execution_count": 77,
   "id": "fc8ed760-aafe-4c3d-8428-d3a9eac5b1c5",
   "metadata": {},
   "outputs": [
    {
     "data": {
      "text/html": [
       "<div>\n",
       "<style scoped>\n",
       "    .dataframe tbody tr th:only-of-type {\n",
       "        vertical-align: middle;\n",
       "    }\n",
       "\n",
       "    .dataframe tbody tr th {\n",
       "        vertical-align: top;\n",
       "    }\n",
       "\n",
       "    .dataframe thead th {\n",
       "        text-align: right;\n",
       "    }\n",
       "</style>\n",
       "<table border=\"1\" class=\"dataframe\">\n",
       "  <thead>\n",
       "    <tr style=\"text-align: right;\">\n",
       "      <th></th>\n",
       "      <th>1</th>\n",
       "      <th>2</th>\n",
       "      <th>3</th>\n",
       "    </tr>\n",
       "  </thead>\n",
       "  <tbody>\n",
       "    <tr>\n",
       "      <th>0</th>\n",
       "      <td>10</td>\n",
       "      <td>31</td>\n",
       "      <td>asd</td>\n",
       "    </tr>\n",
       "    <tr>\n",
       "      <th>1</th>\n",
       "      <td>20</td>\n",
       "      <td>23523</td>\n",
       "      <td>qwe</td>\n",
       "    </tr>\n",
       "    <tr>\n",
       "      <th>2</th>\n",
       "      <td>30</td>\n",
       "      <td>423423</td>\n",
       "      <td>zxc</td>\n",
       "    </tr>\n",
       "    <tr>\n",
       "      <th>3</th>\n",
       "      <td>40</td>\n",
       "      <td>31</td>\n",
       "      <td>qwe</td>\n",
       "    </tr>\n",
       "  </tbody>\n",
       "</table>\n",
       "</div>"
      ],
      "text/plain": [
       "    1       2    3\n",
       "0  10      31  asd\n",
       "1  20   23523  qwe\n",
       "2  30  423423  zxc\n",
       "3  40      31  qwe"
      ]
     },
     "execution_count": 77,
     "metadata": {},
     "output_type": "execute_result"
    }
   ],
   "source": [
    "DF = pd.DataFrame({'1':[10,20,30,40],\n",
    "                   '2':[31,23523,423423,31],\n",
    "                   '3':['asd','qwe','zxc','qwe']})\n",
    "DF"
   ]
  },
  {
   "cell_type": "code",
   "execution_count": 78,
   "id": "74d3d104-a01f-4fff-86dc-5c31eb72914b",
   "metadata": {},
   "outputs": [
    {
     "data": {
      "text/plain": [
       "31"
      ]
     },
     "execution_count": 78,
     "metadata": {},
     "output_type": "execute_result"
    }
   ],
   "source": [
    " DF['2'].unique()[0]"
   ]
  },
  {
   "cell_type": "code",
   "execution_count": 79,
   "id": "fc92e604-b18c-4f37-b039-065f24315919",
   "metadata": {},
   "outputs": [
    {
     "data": {
      "text/plain": [
       "3"
      ]
     },
     "execution_count": 79,
     "metadata": {},
     "output_type": "execute_result"
    }
   ],
   "source": [
    "DF['2'].nunique() # num of unique elements"
   ]
  },
  {
   "cell_type": "code",
   "execution_count": 80,
   "id": "b1014864-0ed8-4b4e-9197-ec158a2bd99d",
   "metadata": {},
   "outputs": [
    {
     "data": {
      "text/plain": [
       "2\n",
       "31        2\n",
       "23523     1\n",
       "423423    1\n",
       "Name: count, dtype: int64"
      ]
     },
     "execution_count": 80,
     "metadata": {},
     "output_type": "execute_result"
    }
   ],
   "source": [
    "DF['2'].value_counts() # series"
   ]
  },
  {
   "cell_type": "markdown",
   "id": "3caada02-ba97-4a97-a83e-697b09c35062",
   "metadata": {},
   "source": [
    "## 3.6 Functions"
   ]
  },
  {
   "cell_type": "code",
   "execution_count": 81,
   "id": "8d89f02d-f71c-4e8d-8569-eb452a6c8a11",
   "metadata": {},
   "outputs": [],
   "source": [
    "def multiplyByThree(x):\n",
    "    return x*3"
   ]
  },
  {
   "cell_type": "code",
   "execution_count": 82,
   "id": "d2300b44-b6d8-4a7b-ba10-e68d25c55d2c",
   "metadata": {},
   "outputs": [
    {
     "data": {
      "text/html": [
       "<div>\n",
       "<style scoped>\n",
       "    .dataframe tbody tr th:only-of-type {\n",
       "        vertical-align: middle;\n",
       "    }\n",
       "\n",
       "    .dataframe tbody tr th {\n",
       "        vertical-align: top;\n",
       "    }\n",
       "\n",
       "    .dataframe thead th {\n",
       "        text-align: right;\n",
       "    }\n",
       "</style>\n",
       "<table border=\"1\" class=\"dataframe\">\n",
       "  <thead>\n",
       "    <tr style=\"text-align: right;\">\n",
       "      <th></th>\n",
       "      <th>1</th>\n",
       "      <th>2</th>\n",
       "      <th>3</th>\n",
       "    </tr>\n",
       "  </thead>\n",
       "  <tbody>\n",
       "    <tr>\n",
       "      <th>0</th>\n",
       "      <td>10</td>\n",
       "      <td>31</td>\n",
       "      <td>asd</td>\n",
       "    </tr>\n",
       "    <tr>\n",
       "      <th>1</th>\n",
       "      <td>20</td>\n",
       "      <td>23523</td>\n",
       "      <td>qwe</td>\n",
       "    </tr>\n",
       "    <tr>\n",
       "      <th>2</th>\n",
       "      <td>30</td>\n",
       "      <td>423423</td>\n",
       "      <td>zxc</td>\n",
       "    </tr>\n",
       "    <tr>\n",
       "      <th>3</th>\n",
       "      <td>40</td>\n",
       "      <td>31</td>\n",
       "      <td>qwe</td>\n",
       "    </tr>\n",
       "  </tbody>\n",
       "</table>\n",
       "</div>"
      ],
      "text/plain": [
       "    1       2    3\n",
       "0  10      31  asd\n",
       "1  20   23523  qwe\n",
       "2  30  423423  zxc\n",
       "3  40      31  qwe"
      ]
     },
     "execution_count": 82,
     "metadata": {},
     "output_type": "execute_result"
    }
   ],
   "source": [
    "DF"
   ]
  },
  {
   "cell_type": "code",
   "execution_count": 83,
   "id": "507f6e8b-ba89-47be-855e-4e94a410ba41",
   "metadata": {},
   "outputs": [
    {
     "data": {
      "text/plain": [
       "0    asdasdasd\n",
       "1    qweqweqwe\n",
       "2    zxczxczxc\n",
       "3    qweqweqwe\n",
       "Name: 3, dtype: object"
      ]
     },
     "execution_count": 83,
     "metadata": {},
     "output_type": "execute_result"
    }
   ],
   "source": [
    "multiplyByThree(DF['3'])"
   ]
  },
  {
   "cell_type": "code",
   "execution_count": 84,
   "id": "c5ff5c08-49ae-4b47-b3da-b9f206faf276",
   "metadata": {},
   "outputs": [
    {
     "data": {
      "text/html": [
       "<div>\n",
       "<style scoped>\n",
       "    .dataframe tbody tr th:only-of-type {\n",
       "        vertical-align: middle;\n",
       "    }\n",
       "\n",
       "    .dataframe tbody tr th {\n",
       "        vertical-align: top;\n",
       "    }\n",
       "\n",
       "    .dataframe thead th {\n",
       "        text-align: right;\n",
       "    }\n",
       "</style>\n",
       "<table border=\"1\" class=\"dataframe\">\n",
       "  <thead>\n",
       "    <tr style=\"text-align: right;\">\n",
       "      <th></th>\n",
       "      <th>1</th>\n",
       "      <th>2</th>\n",
       "      <th>3</th>\n",
       "    </tr>\n",
       "  </thead>\n",
       "  <tbody>\n",
       "    <tr>\n",
       "      <th>0</th>\n",
       "      <td>30</td>\n",
       "      <td>93</td>\n",
       "      <td>asdasdasd</td>\n",
       "    </tr>\n",
       "    <tr>\n",
       "      <th>1</th>\n",
       "      <td>60</td>\n",
       "      <td>70569</td>\n",
       "      <td>qweqweqwe</td>\n",
       "    </tr>\n",
       "    <tr>\n",
       "      <th>2</th>\n",
       "      <td>90</td>\n",
       "      <td>1270269</td>\n",
       "      <td>zxczxczxc</td>\n",
       "    </tr>\n",
       "    <tr>\n",
       "      <th>3</th>\n",
       "      <td>120</td>\n",
       "      <td>93</td>\n",
       "      <td>qweqweqwe</td>\n",
       "    </tr>\n",
       "  </tbody>\n",
       "</table>\n",
       "</div>"
      ],
      "text/plain": [
       "     1        2          3\n",
       "0   30       93  asdasdasd\n",
       "1   60    70569  qweqweqwe\n",
       "2   90  1270269  zxczxczxc\n",
       "3  120       93  qweqweqwe"
      ]
     },
     "execution_count": 84,
     "metadata": {},
     "output_type": "execute_result"
    }
   ],
   "source": [
    "DF.apply(multiplyByThree) # equals multiplyByThree(DF)"
   ]
  },
  {
   "cell_type": "code",
   "execution_count": 85,
   "id": "d51916b8-ed2e-44d9-bc96-5f51ae62f395",
   "metadata": {},
   "outputs": [
    {
     "data": {
      "text/plain": [
       "0     101\n",
       "1     401\n",
       "2     901\n",
       "3    1601\n",
       "Name: 1, dtype: int64"
      ]
     },
     "execution_count": 85,
     "metadata": {},
     "output_type": "execute_result"
    }
   ],
   "source": [
    "DF['1'].apply(lambda x:x**2+1)"
   ]
  },
  {
   "cell_type": "markdown",
   "id": "1926a235-eaa3-465d-8bec-05cab51e7a59",
   "metadata": {},
   "source": [
    "## 3.7 Removing Rows/Columns"
   ]
  },
  {
   "cell_type": "code",
   "execution_count": 86,
   "id": "4880eb81-d4d6-4fe1-8dd9-695322d869cb",
   "metadata": {},
   "outputs": [
    {
     "data": {
      "text/html": [
       "<div>\n",
       "<style scoped>\n",
       "    .dataframe tbody tr th:only-of-type {\n",
       "        vertical-align: middle;\n",
       "    }\n",
       "\n",
       "    .dataframe tbody tr th {\n",
       "        vertical-align: top;\n",
       "    }\n",
       "\n",
       "    .dataframe thead th {\n",
       "        text-align: right;\n",
       "    }\n",
       "</style>\n",
       "<table border=\"1\" class=\"dataframe\">\n",
       "  <thead>\n",
       "    <tr style=\"text-align: right;\">\n",
       "      <th></th>\n",
       "      <th>1</th>\n",
       "      <th>2</th>\n",
       "      <th>3</th>\n",
       "    </tr>\n",
       "  </thead>\n",
       "  <tbody>\n",
       "    <tr>\n",
       "      <th>0</th>\n",
       "      <td>10</td>\n",
       "      <td>31</td>\n",
       "      <td>asd</td>\n",
       "    </tr>\n",
       "    <tr>\n",
       "      <th>1</th>\n",
       "      <td>20</td>\n",
       "      <td>23523</td>\n",
       "      <td>qwe</td>\n",
       "    </tr>\n",
       "    <tr>\n",
       "      <th>2</th>\n",
       "      <td>30</td>\n",
       "      <td>423423</td>\n",
       "      <td>zxc</td>\n",
       "    </tr>\n",
       "    <tr>\n",
       "      <th>3</th>\n",
       "      <td>40</td>\n",
       "      <td>31</td>\n",
       "      <td>qwe</td>\n",
       "    </tr>\n",
       "  </tbody>\n",
       "</table>\n",
       "</div>"
      ],
      "text/plain": [
       "    1       2    3\n",
       "0  10      31  asd\n",
       "1  20   23523  qwe\n",
       "2  30  423423  zxc\n",
       "3  40      31  qwe"
      ]
     },
     "execution_count": 86,
     "metadata": {},
     "output_type": "execute_result"
    }
   ],
   "source": [
    "DF"
   ]
  },
  {
   "cell_type": "code",
   "execution_count": 87,
   "id": "1a37e687-5848-4971-bf5a-c4089a3cc9f5",
   "metadata": {},
   "outputs": [
    {
     "data": {
      "text/html": [
       "<div>\n",
       "<style scoped>\n",
       "    .dataframe tbody tr th:only-of-type {\n",
       "        vertical-align: middle;\n",
       "    }\n",
       "\n",
       "    .dataframe tbody tr th {\n",
       "        vertical-align: top;\n",
       "    }\n",
       "\n",
       "    .dataframe thead th {\n",
       "        text-align: right;\n",
       "    }\n",
       "</style>\n",
       "<table border=\"1\" class=\"dataframe\">\n",
       "  <thead>\n",
       "    <tr style=\"text-align: right;\">\n",
       "      <th></th>\n",
       "      <th>1</th>\n",
       "      <th>2</th>\n",
       "      <th>3</th>\n",
       "    </tr>\n",
       "  </thead>\n",
       "  <tbody>\n",
       "    <tr>\n",
       "      <th>0</th>\n",
       "      <td>10</td>\n",
       "      <td>31</td>\n",
       "      <td>asd</td>\n",
       "    </tr>\n",
       "    <tr>\n",
       "      <th>1</th>\n",
       "      <td>20</td>\n",
       "      <td>23523</td>\n",
       "      <td>qwe</td>\n",
       "    </tr>\n",
       "    <tr>\n",
       "      <th>3</th>\n",
       "      <td>40</td>\n",
       "      <td>31</td>\n",
       "      <td>qwe</td>\n",
       "    </tr>\n",
       "  </tbody>\n",
       "</table>\n",
       "</div>"
      ],
      "text/plain": [
       "    1      2    3\n",
       "0  10     31  asd\n",
       "1  20  23523  qwe\n",
       "3  40     31  qwe"
      ]
     },
     "execution_count": 87,
     "metadata": {},
     "output_type": "execute_result"
    }
   ],
   "source": [
    "DF.drop(2) # Remove rows"
   ]
  },
  {
   "cell_type": "code",
   "execution_count": 88,
   "id": "00de73b7-2abb-43e0-9488-f54e186ed0a4",
   "metadata": {},
   "outputs": [],
   "source": [
    "DF = pd.DataFrame({'1':[10,20,30,40],\n",
    "                   '2':[31,23523,423423,31],\n",
    "                   '3':['asd','qwe','zxc','qwe']})"
   ]
  },
  {
   "cell_type": "code",
   "execution_count": 89,
   "id": "93c23865-0dd6-453e-afce-5f1a4bffa596",
   "metadata": {},
   "outputs": [
    {
     "data": {
      "text/html": [
       "<div>\n",
       "<style scoped>\n",
       "    .dataframe tbody tr th:only-of-type {\n",
       "        vertical-align: middle;\n",
       "    }\n",
       "\n",
       "    .dataframe tbody tr th {\n",
       "        vertical-align: top;\n",
       "    }\n",
       "\n",
       "    .dataframe thead th {\n",
       "        text-align: right;\n",
       "    }\n",
       "</style>\n",
       "<table border=\"1\" class=\"dataframe\">\n",
       "  <thead>\n",
       "    <tr style=\"text-align: right;\">\n",
       "      <th></th>\n",
       "      <th>1</th>\n",
       "      <th>2</th>\n",
       "      <th>3</th>\n",
       "    </tr>\n",
       "  </thead>\n",
       "  <tbody>\n",
       "    <tr>\n",
       "      <th>0</th>\n",
       "      <td>10</td>\n",
       "      <td>31</td>\n",
       "      <td>asd</td>\n",
       "    </tr>\n",
       "    <tr>\n",
       "      <th>1</th>\n",
       "      <td>20</td>\n",
       "      <td>23523</td>\n",
       "      <td>qwe</td>\n",
       "    </tr>\n",
       "    <tr>\n",
       "      <th>2</th>\n",
       "      <td>30</td>\n",
       "      <td>423423</td>\n",
       "      <td>zxc</td>\n",
       "    </tr>\n",
       "    <tr>\n",
       "      <th>3</th>\n",
       "      <td>40</td>\n",
       "      <td>31</td>\n",
       "      <td>qwe</td>\n",
       "    </tr>\n",
       "  </tbody>\n",
       "</table>\n",
       "</div>"
      ],
      "text/plain": [
       "    1       2    3\n",
       "0  10      31  asd\n",
       "1  20   23523  qwe\n",
       "2  30  423423  zxc\n",
       "3  40      31  qwe"
      ]
     },
     "execution_count": 89,
     "metadata": {},
     "output_type": "execute_result"
    }
   ],
   "source": [
    "DF"
   ]
  },
  {
   "cell_type": "code",
   "execution_count": 90,
   "id": "3c8fadca-a393-4a0f-ac39-a4bbed086eea",
   "metadata": {},
   "outputs": [],
   "source": [
    "DF.drop('2',axis=1,inplace=True) # Remove columns and making the effect take the with inplace"
   ]
  },
  {
   "cell_type": "code",
   "execution_count": 91,
   "id": "e50b60d5-7cf9-4567-8e7b-cccd9a95a62f",
   "metadata": {},
   "outputs": [
    {
     "data": {
      "text/html": [
       "<div>\n",
       "<style scoped>\n",
       "    .dataframe tbody tr th:only-of-type {\n",
       "        vertical-align: middle;\n",
       "    }\n",
       "\n",
       "    .dataframe tbody tr th {\n",
       "        vertical-align: top;\n",
       "    }\n",
       "\n",
       "    .dataframe thead th {\n",
       "        text-align: right;\n",
       "    }\n",
       "</style>\n",
       "<table border=\"1\" class=\"dataframe\">\n",
       "  <thead>\n",
       "    <tr style=\"text-align: right;\">\n",
       "      <th></th>\n",
       "      <th>1</th>\n",
       "      <th>3</th>\n",
       "    </tr>\n",
       "  </thead>\n",
       "  <tbody>\n",
       "    <tr>\n",
       "      <th>0</th>\n",
       "      <td>10</td>\n",
       "      <td>asd</td>\n",
       "    </tr>\n",
       "    <tr>\n",
       "      <th>1</th>\n",
       "      <td>20</td>\n",
       "      <td>qwe</td>\n",
       "    </tr>\n",
       "    <tr>\n",
       "      <th>2</th>\n",
       "      <td>30</td>\n",
       "      <td>zxc</td>\n",
       "    </tr>\n",
       "    <tr>\n",
       "      <th>3</th>\n",
       "      <td>40</td>\n",
       "      <td>qwe</td>\n",
       "    </tr>\n",
       "  </tbody>\n",
       "</table>\n",
       "</div>"
      ],
      "text/plain": [
       "    1    3\n",
       "0  10  asd\n",
       "1  20  qwe\n",
       "2  30  zxc\n",
       "3  40  qwe"
      ]
     },
     "execution_count": 91,
     "metadata": {},
     "output_type": "execute_result"
    }
   ],
   "source": [
    "DF"
   ]
  },
  {
   "cell_type": "markdown",
   "id": "a3f8d026-3f89-4f9c-b710-997950297bba",
   "metadata": {},
   "source": [
    "# 4. Data/File IO"
   ]
  },
  {
   "cell_type": "markdown",
   "id": "d38f41cd-7c87-4b97-b154-708466520d5f",
   "metadata": {},
   "source": [
    "## 4.1) CSV (Comma Separated Files)\n"
   ]
  },
  {
   "cell_type": "code",
   "execution_count": 92,
   "id": "ca6da106-3e8d-461d-a60b-99c6a74f86ec",
   "metadata": {},
   "outputs": [],
   "source": [
    "df = pd.read_csv('./vgsales.csv')"
   ]
  },
  {
   "cell_type": "code",
   "execution_count": 93,
   "id": "e7d1718d-89f0-4e24-8487-11e20fa3990e",
   "metadata": {},
   "outputs": [],
   "source": [
    "df2 = df # after processing"
   ]
  },
  {
   "cell_type": "code",
   "execution_count": 94,
   "id": "003b196c-6072-4990-9c20-261243c2c38c",
   "metadata": {},
   "outputs": [],
   "source": [
    "df2.to_csv('./vgsalesOUTPUT.csv')"
   ]
  },
  {
   "cell_type": "markdown",
   "id": "1ca5cb3f-c61f-4aa5-944c-fcc5dccdb793",
   "metadata": {},
   "source": [
    "## 4.2) Excel (Spreadsheets)"
   ]
  },
  {
   "cell_type": "code",
   "execution_count": 95,
   "id": "ac584821-671b-43da-a07c-17bb4fa38a3a",
   "metadata": {},
   "outputs": [],
   "source": [
    "# df.pd.read_excel('')"
   ]
  },
  {
   "cell_type": "code",
   "execution_count": 96,
   "id": "72a3e641-08bf-4d84-a18f-32e3a7dcae43",
   "metadata": {},
   "outputs": [],
   "source": [
    "# df2.to_excel('./newexcel_file')"
   ]
  },
  {
   "cell_type": "markdown",
   "id": "9a412f98-952d-44d1-ab96-fec217b8a91e",
   "metadata": {},
   "source": [
    "## 4.3) HTML (over the web)"
   ]
  },
  {
   "cell_type": "code",
   "execution_count": 97,
   "id": "ef5a6094-066b-48f2-bba3-dee251df4876",
   "metadata": {},
   "outputs": [
    {
     "name": "stderr",
     "output_type": "stream",
     "text": [
      "/Users/matthewyacovone/python-portfolio/env/lib/python3.10/site-packages/bs4/__init__.py:228: UserWarning: You provided Unicode markup but also provided a value for from_encoding. Your from_encoding will be ignored.\n",
      "  warnings.warn(\"You provided Unicode markup but also provided a value for from_encoding. Your from_encoding will be ignored.\")\n"
     ]
    }
   ],
   "source": [
    "html = pd.read_html('https://scholar.google.com/citations?user=CoADxCwAAAAJ&hl=en&oi=sra',encoding='latin-1')"
   ]
  },
  {
   "cell_type": "code",
   "execution_count": 98,
   "id": "4d33022d-11f6-4647-9b86-041379aa8637",
   "metadata": {},
   "outputs": [
    {
     "data": {
      "text/plain": [
       "[  Unnamed: 0    All  Since 2019\n",
       " 0  Citations  12590        6164\n",
       " 1    h-index     43          33\n",
       " 2  i10-index     54          49,\n",
       "    TitleSortSort by citationsSort by yearSort by title  Cited byCited by  Year\n",
       " 0   The classical complement cascade mediates CNS ...               3356  2007\n",
       " 1   Gabapentin receptor α2δ-1 is a neuronal thromb...                991  2009\n",
       " 2   Mechanisms underlying development of visual ma...                694  2008\n",
       " 3   Finger-length ratios and sexual orientationTJ ...                670  2000\n",
       " 4   Genetic identification of an On-Off direction-...                421  2009\n",
       " 5   What can mice tell us about how vision works?A...                413  2011\n",
       " 6   Diverse visual features encoded in mouse later...                385  2013\n",
       " 7   A dedicated circuit links direction-selective ...                357  2014\n",
       " 8   Architecture, function, and assembly of the mo...                323  2017\n",
       " 9   Architecture and activity-mediated refinement ...                317  2008\n",
       " 10  Neural activity promotes long-distance, target...                297  2016\n",
       " 11  Characteristic patterns of dendritic remodelin...                239  2015\n",
       " 12  Neuronal pentraxins mediate synaptic refinemen...                230  2006\n",
       " 13  Retinal ganglion cell maps in the brain: impli...                221  2014\n",
       " 14  Transgenic mice reveal unexpected diversity of...                217  2011\n",
       " 15  Neurotoxic reactive astrocytes drive neuronal ...                187  2020\n",
       " 16  Genetic dissection of retinal inputs to brains...                182  2013\n",
       " 17  Contributions of retinal ganglion cells to sub...                178  2015\n",
       " 18  Cadherin-6 mediates axon-target matching in a ...                166  2011\n",
       " 19  A midline thalamic circuit determines reaction...                165  2018]"
      ]
     },
     "execution_count": 98,
     "metadata": {},
     "output_type": "execute_result"
    }
   ],
   "source": [
    "html"
   ]
  },
  {
   "cell_type": "code",
   "execution_count": 99,
   "id": "8ad88069-6341-4999-90ea-3ebd100cd063",
   "metadata": {},
   "outputs": [
    {
     "data": {
      "text/plain": [
       "list"
      ]
     },
     "execution_count": 99,
     "metadata": {},
     "output_type": "execute_result"
    }
   ],
   "source": [
    "type(html)"
   ]
  },
  {
   "cell_type": "code",
   "execution_count": 100,
   "id": "1ba4ad4a-a7b1-4fbd-9a4e-615508843498",
   "metadata": {},
   "outputs": [
    {
     "data": {
      "text/plain": [
       "2"
      ]
     },
     "execution_count": 100,
     "metadata": {},
     "output_type": "execute_result"
    }
   ],
   "source": [
    "len(html) # Contains two tables"
   ]
  },
  {
   "cell_type": "code",
   "execution_count": 101,
   "id": "d0341a41-f1cd-447b-907d-871dfc8da8a8",
   "metadata": {},
   "outputs": [
    {
     "data": {
      "text/html": [
       "<div>\n",
       "<style scoped>\n",
       "    .dataframe tbody tr th:only-of-type {\n",
       "        vertical-align: middle;\n",
       "    }\n",
       "\n",
       "    .dataframe tbody tr th {\n",
       "        vertical-align: top;\n",
       "    }\n",
       "\n",
       "    .dataframe thead th {\n",
       "        text-align: right;\n",
       "    }\n",
       "</style>\n",
       "<table border=\"1\" class=\"dataframe\">\n",
       "  <thead>\n",
       "    <tr style=\"text-align: right;\">\n",
       "      <th></th>\n",
       "      <th>TitleSortSort by citationsSort by yearSort by title</th>\n",
       "      <th>Cited byCited by</th>\n",
       "      <th>Year</th>\n",
       "    </tr>\n",
       "  </thead>\n",
       "  <tbody>\n",
       "    <tr>\n",
       "      <th>0</th>\n",
       "      <td>The classical complement cascade mediates CNS ...</td>\n",
       "      <td>3356</td>\n",
       "      <td>2007</td>\n",
       "    </tr>\n",
       "    <tr>\n",
       "      <th>1</th>\n",
       "      <td>Gabapentin receptor α2δ-1 is a neuronal thromb...</td>\n",
       "      <td>991</td>\n",
       "      <td>2009</td>\n",
       "    </tr>\n",
       "    <tr>\n",
       "      <th>2</th>\n",
       "      <td>Mechanisms underlying development of visual ma...</td>\n",
       "      <td>694</td>\n",
       "      <td>2008</td>\n",
       "    </tr>\n",
       "    <tr>\n",
       "      <th>3</th>\n",
       "      <td>Finger-length ratios and sexual orientationTJ ...</td>\n",
       "      <td>670</td>\n",
       "      <td>2000</td>\n",
       "    </tr>\n",
       "    <tr>\n",
       "      <th>4</th>\n",
       "      <td>Genetic identification of an On-Off direction-...</td>\n",
       "      <td>421</td>\n",
       "      <td>2009</td>\n",
       "    </tr>\n",
       "    <tr>\n",
       "      <th>5</th>\n",
       "      <td>What can mice tell us about how vision works?A...</td>\n",
       "      <td>413</td>\n",
       "      <td>2011</td>\n",
       "    </tr>\n",
       "    <tr>\n",
       "      <th>6</th>\n",
       "      <td>Diverse visual features encoded in mouse later...</td>\n",
       "      <td>385</td>\n",
       "      <td>2013</td>\n",
       "    </tr>\n",
       "    <tr>\n",
       "      <th>7</th>\n",
       "      <td>A dedicated circuit links direction-selective ...</td>\n",
       "      <td>357</td>\n",
       "      <td>2014</td>\n",
       "    </tr>\n",
       "    <tr>\n",
       "      <th>8</th>\n",
       "      <td>Architecture, function, and assembly of the mo...</td>\n",
       "      <td>323</td>\n",
       "      <td>2017</td>\n",
       "    </tr>\n",
       "    <tr>\n",
       "      <th>9</th>\n",
       "      <td>Architecture and activity-mediated refinement ...</td>\n",
       "      <td>317</td>\n",
       "      <td>2008</td>\n",
       "    </tr>\n",
       "    <tr>\n",
       "      <th>10</th>\n",
       "      <td>Neural activity promotes long-distance, target...</td>\n",
       "      <td>297</td>\n",
       "      <td>2016</td>\n",
       "    </tr>\n",
       "    <tr>\n",
       "      <th>11</th>\n",
       "      <td>Characteristic patterns of dendritic remodelin...</td>\n",
       "      <td>239</td>\n",
       "      <td>2015</td>\n",
       "    </tr>\n",
       "    <tr>\n",
       "      <th>12</th>\n",
       "      <td>Neuronal pentraxins mediate synaptic refinemen...</td>\n",
       "      <td>230</td>\n",
       "      <td>2006</td>\n",
       "    </tr>\n",
       "    <tr>\n",
       "      <th>13</th>\n",
       "      <td>Retinal ganglion cell maps in the brain: impli...</td>\n",
       "      <td>221</td>\n",
       "      <td>2014</td>\n",
       "    </tr>\n",
       "    <tr>\n",
       "      <th>14</th>\n",
       "      <td>Transgenic mice reveal unexpected diversity of...</td>\n",
       "      <td>217</td>\n",
       "      <td>2011</td>\n",
       "    </tr>\n",
       "    <tr>\n",
       "      <th>15</th>\n",
       "      <td>Neurotoxic reactive astrocytes drive neuronal ...</td>\n",
       "      <td>187</td>\n",
       "      <td>2020</td>\n",
       "    </tr>\n",
       "    <tr>\n",
       "      <th>16</th>\n",
       "      <td>Genetic dissection of retinal inputs to brains...</td>\n",
       "      <td>182</td>\n",
       "      <td>2013</td>\n",
       "    </tr>\n",
       "    <tr>\n",
       "      <th>17</th>\n",
       "      <td>Contributions of retinal ganglion cells to sub...</td>\n",
       "      <td>178</td>\n",
       "      <td>2015</td>\n",
       "    </tr>\n",
       "    <tr>\n",
       "      <th>18</th>\n",
       "      <td>Cadherin-6 mediates axon-target matching in a ...</td>\n",
       "      <td>166</td>\n",
       "      <td>2011</td>\n",
       "    </tr>\n",
       "    <tr>\n",
       "      <th>19</th>\n",
       "      <td>A midline thalamic circuit determines reaction...</td>\n",
       "      <td>165</td>\n",
       "      <td>2018</td>\n",
       "    </tr>\n",
       "  </tbody>\n",
       "</table>\n",
       "</div>"
      ],
      "text/plain": [
       "   TitleSortSort by citationsSort by yearSort by title  Cited byCited by  Year\n",
       "0   The classical complement cascade mediates CNS ...               3356  2007\n",
       "1   Gabapentin receptor α2δ-1 is a neuronal thromb...                991  2009\n",
       "2   Mechanisms underlying development of visual ma...                694  2008\n",
       "3   Finger-length ratios and sexual orientationTJ ...                670  2000\n",
       "4   Genetic identification of an On-Off direction-...                421  2009\n",
       "5   What can mice tell us about how vision works?A...                413  2011\n",
       "6   Diverse visual features encoded in mouse later...                385  2013\n",
       "7   A dedicated circuit links direction-selective ...                357  2014\n",
       "8   Architecture, function, and assembly of the mo...                323  2017\n",
       "9   Architecture and activity-mediated refinement ...                317  2008\n",
       "10  Neural activity promotes long-distance, target...                297  2016\n",
       "11  Characteristic patterns of dendritic remodelin...                239  2015\n",
       "12  Neuronal pentraxins mediate synaptic refinemen...                230  2006\n",
       "13  Retinal ganglion cell maps in the brain: impli...                221  2014\n",
       "14  Transgenic mice reveal unexpected diversity of...                217  2011\n",
       "15  Neurotoxic reactive astrocytes drive neuronal ...                187  2020\n",
       "16  Genetic dissection of retinal inputs to brains...                182  2013\n",
       "17  Contributions of retinal ganglion cells to sub...                178  2015\n",
       "18  Cadherin-6 mediates axon-target matching in a ...                166  2011\n",
       "19  A midline thalamic circuit determines reaction...                165  2018"
      ]
     },
     "execution_count": 101,
     "metadata": {},
     "output_type": "execute_result"
    }
   ],
   "source": [
    "html[1] "
   ]
  },
  {
   "cell_type": "code",
   "execution_count": 102,
   "id": "ccbac558-1646-40f7-8121-301e4000b832",
   "metadata": {},
   "outputs": [
    {
     "data": {
      "text/plain": [
       "pandas.core.frame.DataFrame"
      ]
     },
     "execution_count": 102,
     "metadata": {},
     "output_type": "execute_result"
    }
   ],
   "source": [
    "type(html[1]) # html is a list of dataframes"
   ]
  },
  {
   "cell_type": "markdown",
   "id": "d2710f9f-a3af-42ec-a54c-8ac51e09d82f",
   "metadata": {},
   "source": [
    "# 5. Visualization"
   ]
  },
  {
   "cell_type": "code",
   "execution_count": 106,
   "id": "b11d8897-4f59-4109-95c0-01231ac18587",
   "metadata": {},
   "outputs": [
    {
     "data": {
      "text/html": [
       "<div>\n",
       "<style scoped>\n",
       "    .dataframe tbody tr th:only-of-type {\n",
       "        vertical-align: middle;\n",
       "    }\n",
       "\n",
       "    .dataframe tbody tr th {\n",
       "        vertical-align: top;\n",
       "    }\n",
       "\n",
       "    .dataframe thead th {\n",
       "        text-align: right;\n",
       "    }\n",
       "</style>\n",
       "<table border=\"1\" class=\"dataframe\">\n",
       "  <thead>\n",
       "    <tr style=\"text-align: right;\">\n",
       "      <th></th>\n",
       "      <th>A</th>\n",
       "      <th>B</th>\n",
       "    </tr>\n",
       "  </thead>\n",
       "  <tbody>\n",
       "    <tr>\n",
       "      <th>0</th>\n",
       "      <td>0.732048</td>\n",
       "      <td>0.913401</td>\n",
       "    </tr>\n",
       "    <tr>\n",
       "      <th>1</th>\n",
       "      <td>0.484960</td>\n",
       "      <td>0.313309</td>\n",
       "    </tr>\n",
       "    <tr>\n",
       "      <th>2</th>\n",
       "      <td>0.727025</td>\n",
       "      <td>0.245268</td>\n",
       "    </tr>\n",
       "    <tr>\n",
       "      <th>3</th>\n",
       "      <td>0.824000</td>\n",
       "      <td>0.440073</td>\n",
       "    </tr>\n",
       "    <tr>\n",
       "      <th>4</th>\n",
       "      <td>0.949817</td>\n",
       "      <td>0.737165</td>\n",
       "    </tr>\n",
       "  </tbody>\n",
       "</table>\n",
       "</div>"
      ],
      "text/plain": [
       "          A         B\n",
       "0  0.732048  0.913401\n",
       "1  0.484960  0.313309\n",
       "2  0.727025  0.245268\n",
       "3  0.824000  0.440073\n",
       "4  0.949817  0.737165"
      ]
     },
     "execution_count": 106,
     "metadata": {},
     "output_type": "execute_result"
    }
   ],
   "source": [
    "df = pd.DataFrame(np.random.rand(100,2), columns=['A', 'B'])\n",
    "df.head() # shows the first 5 rows if rows are >=5"
   ]
  },
  {
   "cell_type": "code",
   "execution_count": 114,
   "id": "9a4d5185-5efc-419f-a75f-940897be9ac4",
   "metadata": {},
   "outputs": [
    {
     "data": {
      "text/plain": [
       "<Axes: >"
      ]
     },
     "execution_count": 114,
     "metadata": {},
     "output_type": "execute_result"
    },
    {
     "data": {
      "image/png": "[encoded data removed]",
      "text/plain": [
       "<Figure size 640x480 with 1 Axes>"
      ]
     },
     "metadata": {},
     "output_type": "display_data"
    }
   ],
   "source": [
    "df['A'].plot(ls = ':', color='red', marker='^', markersize=20) # linestyle = ls"
   ]
  },
  {
   "cell_type": "code",
   "execution_count": 119,
   "id": "ec840ece-d645-4aa1-afff-843d4d27a5af",
   "metadata": {},
   "outputs": [
    {
     "data": {
      "text/plain": [
       "<Axes: >"
      ]
     },
     "execution_count": 119,
     "metadata": {},
     "output_type": "execute_result"
    },
    {
     "data": {
      "image/png": "[encoded data removed]",
      "text/plain": [
       "<Figure size 640x480 with 1 Axes>"
      ]
     },
     "metadata": {},
     "output_type": "display_data"
    }
   ],
   "source": [
    "df['A'].plot(ls = ':', color='red', marker='^', markersize=20, xlim=[40,60], markeredgecolor='black', markerfacecolor='purple',ylim=[0.2,0.8]) # linestyle = ls"
   ]
  },
  {
   "cell_type": "code",
   "execution_count": 125,
   "id": "f8ef2f97-99d5-4769-ad47-c21a9a758357",
   "metadata": {},
   "outputs": [
    {
     "data": {
      "text/plain": [
       "<Axes: ylabel='Frequency'>"
      ]
     },
     "execution_count": 125,
     "metadata": {},
     "output_type": "execute_result"
    },
    {
     "data": {
      "image/png": "[encoded data removed]",
      "text/plain": [
       "<Figure size 640x480 with 1 Axes>"
      ]
     },
     "metadata": {},
     "output_type": "display_data"
    }
   ],
   "source": [
    "df['A'].plot.hist(bins=20, color='red', xlim=[0.2,0.8])"
   ]
  },
  {
   "cell_type": "code",
   "execution_count": 128,
   "id": "993ef98c-bff9-41e5-98de-c5b7226c7c72",
   "metadata": {},
   "outputs": [
    {
     "data": {
      "text/html": [
       "<div>\n",
       "<style scoped>\n",
       "    .dataframe tbody tr th:only-of-type {\n",
       "        vertical-align: middle;\n",
       "    }\n",
       "\n",
       "    .dataframe tbody tr th {\n",
       "        vertical-align: top;\n",
       "    }\n",
       "\n",
       "    .dataframe thead th {\n",
       "        text-align: right;\n",
       "    }\n",
       "</style>\n",
       "<table border=\"1\" class=\"dataframe\">\n",
       "  <thead>\n",
       "    <tr style=\"text-align: right;\">\n",
       "      <th></th>\n",
       "      <th>0</th>\n",
       "      <th>1</th>\n",
       "    </tr>\n",
       "  </thead>\n",
       "  <tbody>\n",
       "    <tr>\n",
       "      <th>0</th>\n",
       "      <td>2.004863</td>\n",
       "      <td>-0.833265</td>\n",
       "    </tr>\n",
       "    <tr>\n",
       "      <th>1</th>\n",
       "      <td>1.644149</td>\n",
       "      <td>-0.581601</td>\n",
       "    </tr>\n",
       "    <tr>\n",
       "      <th>2</th>\n",
       "      <td>-0.024720</td>\n",
       "      <td>0.944955</td>\n",
       "    </tr>\n",
       "    <tr>\n",
       "      <th>3</th>\n",
       "      <td>-0.226647</td>\n",
       "      <td>1.128340</td>\n",
       "    </tr>\n",
       "    <tr>\n",
       "      <th>4</th>\n",
       "      <td>0.033048</td>\n",
       "      <td>-0.550964</td>\n",
       "    </tr>\n",
       "    <tr>\n",
       "      <th>...</th>\n",
       "      <td>...</td>\n",
       "      <td>...</td>\n",
       "    </tr>\n",
       "    <tr>\n",
       "      <th>95</th>\n",
       "      <td>-0.746755</td>\n",
       "      <td>1.203247</td>\n",
       "    </tr>\n",
       "    <tr>\n",
       "      <th>96</th>\n",
       "      <td>0.096813</td>\n",
       "      <td>0.801851</td>\n",
       "    </tr>\n",
       "    <tr>\n",
       "      <th>97</th>\n",
       "      <td>-0.714906</td>\n",
       "      <td>-1.309095</td>\n",
       "    </tr>\n",
       "    <tr>\n",
       "      <th>98</th>\n",
       "      <td>1.180776</td>\n",
       "      <td>1.399684</td>\n",
       "    </tr>\n",
       "    <tr>\n",
       "      <th>99</th>\n",
       "      <td>0.821133</td>\n",
       "      <td>-1.290995</td>\n",
       "    </tr>\n",
       "  </tbody>\n",
       "</table>\n",
       "<p>100 rows × 2 columns</p>\n",
       "</div>"
      ],
      "text/plain": [
       "           0         1\n",
       "0   2.004863 -0.833265\n",
       "1   1.644149 -0.581601\n",
       "2  -0.024720  0.944955\n",
       "3  -0.226647  1.128340\n",
       "4   0.033048 -0.550964\n",
       "..       ...       ...\n",
       "95 -0.746755  1.203247\n",
       "96  0.096813  0.801851\n",
       "97 -0.714906 -1.309095\n",
       "98  1.180776  1.399684\n",
       "99  0.821133 -1.290995\n",
       "\n",
       "[100 rows x 2 columns]"
      ]
     },
     "execution_count": 128,
     "metadata": {},
     "output_type": "execute_result"
    }
   ],
   "source": [
    "df2 = pd.DataFrame(np.random.randn(100,2))\n",
    "df2"
   ]
  },
  {
   "cell_type": "code",
   "execution_count": 129,
   "id": "5e137bbf-26fb-4873-8be8-faa75943386d",
   "metadata": {},
   "outputs": [
    {
     "data": {
      "text/plain": [
       "<Axes: ylabel='Frequency'>"
      ]
     },
     "execution_count": 129,
     "metadata": {},
     "output_type": "execute_result"
    },
    {
     "data": {
      "image/png": "[encoded data removed]",
      "text/plain": [
       "<Figure size 640x480 with 1 Axes>"
      ]
     },
     "metadata": {},
     "output_type": "display_data"
    }
   ],
   "source": [
    "df2[0].plot.hist()"
   ]
  },
  {
   "cell_type": "code",
   "execution_count": 130,
   "id": "b9c7551d-533f-47d4-8868-7bed6bd160ec",
   "metadata": {},
   "outputs": [
    {
     "data": {
      "text/plain": [
       "<Axes: ylabel='Frequency'>"
      ]
     },
     "execution_count": 130,
     "metadata": {},
     "output_type": "execute_result"
    },
    {
     "data": {
      "image/png": "[encoded data removed]",
      "text/plain": [
       "<Figure size 640x480 with 1 Axes>"
      ]
     },
     "metadata": {},
     "output_type": "display_data"
    }
   ],
   "source": [
    "df2.plot.hist()"
   ]
  },
  {
   "cell_type": "code",
   "execution_count": 131,
   "id": "fa13d824-de40-4d8e-a956-48aa90929e26",
   "metadata": {},
   "outputs": [
    {
     "data": {
      "text/plain": [
       "<Axes: >"
      ]
     },
     "execution_count": 131,
     "metadata": {},
     "output_type": "execute_result"
    },
    {
     "data": {
      "image/png": "[encoded data removed]",
      "text/plain": [
       "<Figure size 640x480 with 1 Axes>"
      ]
     },
     "metadata": {},
     "output_type": "display_data"
    }
   ],
   "source": [
    "df2.plot()"
   ]
  },
  {
   "cell_type": "code",
   "execution_count": 133,
   "id": "c1322f9c-61ea-4e8b-81b5-e17b9347e45d",
   "metadata": {},
   "outputs": [
    {
     "data": {
      "text/plain": [
       "<Axes: >"
      ]
     },
     "execution_count": 133,
     "metadata": {},
     "output_type": "execute_result"
    },
    {
     "data": {
      "image/png": "[encoded data removed]",
      "text/plain": [
       "<Figure size 640x480 with 1 Axes>"
      ]
     },
     "metadata": {},
     "output_type": "display_data"
    }
   ],
   "source": [
    "df2.plot.box(color='red')"
   ]
  },
  {
   "cell_type": "code",
   "execution_count": 136,
   "id": "eac6c138-47a5-4a4c-85bd-628e8340bc25",
   "metadata": {},
   "outputs": [
    {
     "data": {
      "text/plain": [
       "<Axes: >"
      ]
     },
     "execution_count": 136,
     "metadata": {},
     "output_type": "execute_result"
    },
    {
     "data": {
      "image/png": "[encoded data removed]",
      "text/plain": [
       "<Figure size 640x480 with 1 Axes>"
      ]
     },
     "metadata": {},
     "output_type": "display_data"
    }
   ],
   "source": [
    "df.plot.area() # area curves requires all values to be positive or negative"
   ]
  },
  {
   "cell_type": "code",
   "execution_count": null,
   "id": "5de75fe4-ec40-4780-9040-9ddc95fe5e3d",
   "metadata": {},
   "outputs": [],
   "source": []
  }
 ],
 "metadata": {
  "kernelspec": {
   "display_name": "Python 3 (ipykernel)",
   "language": "python",
   "name": "python3"
  },
  "language_info": {
   "codemirror_mode": {
    "name": "ipython",
    "version": 3
   },
   "file_extension": ".py",
   "mimetype": "text/x-python",
   "name": "python",
   "nbconvert_exporter": "python",
   "pygments_lexer": "ipython3",
   "version": "3.10.14"
  }
 },
 "nbformat": 4,
 "nbformat_minor": 5
}
